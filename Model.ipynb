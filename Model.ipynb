{
 "cells": [
  {
   "cell_type": "code",
   "execution_count": 1,
   "id": "medium-creativity",
   "metadata": {},
   "outputs": [],
   "source": [
    "import numpy as np\n",
    "import pandas as pd\n",
    "import matplotlib.pyplot as plt\n",
    "%matplotlib inline"
   ]
  },
  {
   "cell_type": "code",
   "execution_count": 2,
   "id": "mental-paris",
   "metadata": {},
   "outputs": [],
   "source": [
    "from sklearn.ensemble import RandomForestClassifier\n",
    "from sklearn.ensemble import GradientBoostingClassifier\n",
    "from sklearn.ensemble import VotingClassifier\n",
    "from sklearn.ensemble import StackingClassifier\n",
    "from sklearn.ensemble import AdaBoostClassifier\n",
    "from sklearn.model_selection import KFold, cross_val_score, train_test_split\n",
    "from xgboost import XGBClassifier\n",
    "from lightgbm import LGBMClassifier\n",
    "from catboost import CatBoostClassifier"
   ]
  },
  {
   "cell_type": "code",
   "execution_count": 3,
   "id": "respective-president",
   "metadata": {},
   "outputs": [],
   "source": [
    "train=pd.read_csv('dataset/new_train4.csv')\n",
    "test=pd.read_csv('dataset/new_test4.csv')"
   ]
  },
  {
   "cell_type": "code",
   "execution_count": 4,
   "id": "tight-phase",
   "metadata": {},
   "outputs": [],
   "source": [
    "x_train=train.drop(['customer_id', 'churn_risk_score'], axis=1)\n",
    "x_test=test.drop(['customer_id'], axis=1)\n",
    "y_train=train['churn_risk_score']"
   ]
  },
  {
   "cell_type": "code",
   "execution_count": 5,
   "id": "gross-patrick",
   "metadata": {},
   "outputs": [
    {
     "data": {
      "text/plain": [
       "((36992, 55), (19919, 55), (36992,))"
      ]
     },
     "execution_count": 5,
     "metadata": {},
     "output_type": "execute_result"
    }
   ],
   "source": [
    "x_train.shape, x_test.shape, y_train.shape"
   ]
  },
  {
   "cell_type": "code",
   "execution_count": 6,
   "id": "premier-surface",
   "metadata": {},
   "outputs": [],
   "source": [
    "y1d=[]\n",
    "for i in y_train:\n",
    "    y1d.append(i)"
   ]
  },
  {
   "cell_type": "code",
   "execution_count": 7,
   "id": "alone-setup",
   "metadata": {},
   "outputs": [
    {
     "data": {
      "text/plain": [
       "3    10424\n",
       "4    10185\n",
       "5     9827\n",
       "1     3815\n",
       "2     2741\n",
       "Name: churn_risk_score, dtype: int64"
      ]
     },
     "execution_count": 7,
     "metadata": {},
     "output_type": "execute_result"
    }
   ],
   "source": [
    "y_train.value_counts()"
   ]
  },
  {
   "cell_type": "code",
   "execution_count": 8,
   "id": "flexible-sunset",
   "metadata": {},
   "outputs": [
    {
     "data": {
      "text/plain": [
       "3    2785\n",
       "5    2752\n",
       "4    2680\n",
       "1    1017\n",
       "2     766\n",
       "Name: churn_risk_score, dtype: int64"
      ]
     },
     "execution_count": 8,
     "metadata": {},
     "output_type": "execute_result"
    }
   ],
   "source": [
    "tempy=y_train[:10000]\n",
    "tempy.value_counts()"
   ]
  },
  {
   "cell_type": "code",
   "execution_count": 9,
   "id": "combined-lobby",
   "metadata": {},
   "outputs": [],
   "source": [
    "ty=[]\n",
    "for i in tempy:\n",
    "    ty.append(i)"
   ]
  },
  {
   "cell_type": "code",
   "execution_count": 10,
   "id": "regional-easter",
   "metadata": {},
   "outputs": [],
   "source": [
    "tx=x_train[:10000]"
   ]
  },
  {
   "cell_type": "markdown",
   "id": "extraordinary-albert",
   "metadata": {},
   "source": [
    "# CV"
   ]
  },
  {
   "cell_type": "code",
   "execution_count": 11,
   "id": "altered-mexican",
   "metadata": {},
   "outputs": [],
   "source": [
    "def cv_f1(model):\n",
    "    \n",
    "    return cross_val_score(model, x_train, y1d, scoring='f1_macro', cv=5)"
   ]
  },
  {
   "cell_type": "code",
   "execution_count": 12,
   "id": "mighty-location",
   "metadata": {},
   "outputs": [
    {
     "data": {
      "text/plain": [
       "(73.36378841871134, 0.0038916303387813616)"
      ]
     },
     "execution_count": 12,
     "metadata": {},
     "output_type": "execute_result"
    }
   ],
   "source": [
    "rf=RandomForestClassifier()\n",
    "cv_rf=cv_f1(rf)\n",
    "cv_rf.mean()*100, cv_rf.std()"
   ]
  },
  {
   "cell_type": "code",
   "execution_count": 13,
   "id": "another-insider",
   "metadata": {},
   "outputs": [
    {
     "data": {
      "text/plain": [
       "(73.8703687295278, 0.008002539475388632)"
      ]
     },
     "execution_count": 13,
     "metadata": {},
     "output_type": "execute_result"
    }
   ],
   "source": [
    "gbr=GradientBoostingClassifier()\n",
    "cv_gbr=cv_f1(gbr)\n",
    "cv_gbr.mean()*100, cv_gbr.std()"
   ]
  },
  {
   "cell_type": "code",
   "execution_count": 14,
   "id": "magnetic-seeker",
   "metadata": {},
   "outputs": [
    {
     "data": {
      "text/plain": [
       "(73.3954230362088, 0.008188929962841016)"
      ]
     },
     "execution_count": 14,
     "metadata": {},
     "output_type": "execute_result"
    }
   ],
   "source": [
    "xgb=XGBClassifier()\n",
    "cv_xgb=cv_f1(xgb)\n",
    "cv_xgb.mean()*100, cv_xgb.std()"
   ]
  },
  {
   "cell_type": "code",
   "execution_count": 15,
   "id": "inside-guarantee",
   "metadata": {},
   "outputs": [
    {
     "data": {
      "text/plain": [
       "(73.87166349423893, 0.004220271754203087)"
      ]
     },
     "execution_count": 15,
     "metadata": {},
     "output_type": "execute_result"
    }
   ],
   "source": [
    "lgb=LGBMClassifier()\n",
    "cv_lgb=cv_f1(lgb)\n",
    "cv_lgb.mean()*100, cv_lgb.std()"
   ]
  },
  {
   "cell_type": "code",
   "execution_count": 16,
   "id": "cultural-jefferson",
   "metadata": {},
   "outputs": [
    {
     "data": {
      "text/plain": [
       "(73.72664549197809, 0.004809878211774382)"
      ]
     },
     "execution_count": 16,
     "metadata": {},
     "output_type": "execute_result"
    }
   ],
   "source": [
    "cat=CatBoostClassifier(logging_level='Silent')\n",
    "cv_cat=cv_f1(cat)\n",
    "cv_cat.mean()*100, cv_cat.std()"
   ]
  },
  {
   "cell_type": "markdown",
   "id": "cheap-headset",
   "metadata": {},
   "source": [
    "# Hyperparameter tuning"
   ]
  },
  {
   "cell_type": "code",
   "execution_count": 17,
   "id": "exceptional-collar",
   "metadata": {},
   "outputs": [],
   "source": [
    "from sklearn.model_selection import GridSearchCV\n",
    "from sklearn.model_selection import RandomizedSearchCV"
   ]
  },
  {
   "cell_type": "code",
   "execution_count": 14,
   "id": "billion-providence",
   "metadata": {},
   "outputs": [],
   "source": [
    "params={'n_estimators':[100, 300, 500, 1000],\n",
    "        'max_depth':[None, 20, 50, 100],\n",
    "        'min_samples_split':[2, 5, 10, 15, 20, 25],\n",
    "        'max_features':[None, 5, 10, 15, 20, 25, 30],\n",
    "        'min_samples_leaf':[1, 2, 3],\n",
    "        'bootstrap':[True, False]}\n",
    "grid=GridSearchCV(RandomForestClassifier(), params, verbose=10, cv=2,scoring='f1_macro')\n",
    "grid.fit(x_train, y1d)\n",
    "grid.best_params_\n",
    "# {'bootstrap': True,\n",
    "#  'max_depth': 100,\n",
    "#  'max_features': 20,\n",
    "#  'min_samples_leaf': 1,\n",
    "#  'min_samples_split': 2,\n",
    "#  'n_estimators': 100}\n",
    "\n",
    "# {'max_depth': 20,\n",
    "#  'max_features': 15,\n",
    "#  'min_samples_split': 5,\n",
    "#  'n_estimators': 100}"
   ]
  },
  {
   "cell_type": "code",
   "execution_count": 15,
   "id": "alpha-appeal",
   "metadata": {},
   "outputs": [],
   "source": [
    "params={'n_estimators':[100],\n",
    "        'max_depth':[None, 20, 50, 100],\n",
    "        'min_samples_split':[2, 5, 10, 15, 20, 25],\n",
    "        'max_features':[None, 5, 10, 15, 20, 25],\n",
    "        'min_samples_leaf':[1, 2],\n",
    "        'bootstrap':[True, False]}\n",
    "grid=GridSearchCV(RandomForestClassifier(), params, verbose=10, cv=2,scoring='f1_macro')\n",
    "grid.fit(tx, ty)\n",
    "grid.best_params_\n",
    "# {'bootstrap': True,\n",
    "#  'max_depth': 100,\n",
    "#  'max_features': 20,\n",
    "#  'min_samples_leaf': 1,\n",
    "#  'min_samples_split': 2,\n",
    "#  'n_estimators': 100}\n",
    "\n",
    "# {'bootstrap': False,\n",
    "#  'max_depth': 20,\n",
    "#  'max_features': 10,\n",
    "#  'min_samples_leaf': 1,\n",
    "#  'min_samples_split': 25,\n",
    "#  'n_estimators': 100}"
   ]
  },
  {
   "cell_type": "markdown",
   "id": "starting-liver",
   "metadata": {},
   "source": [
    "- from the above experiment it is clear that we have to tune the model on the whole dataset"
   ]
  },
  {
   "cell_type": "markdown",
   "id": "modified-muslim",
   "metadata": {},
   "source": [
    "# Whole dataset"
   ]
  },
  {
   "cell_type": "code",
   "execution_count": 121,
   "id": "collectible-deficit",
   "metadata": {},
   "outputs": [],
   "source": [
    "ada=AdaBoostClassifier()\n",
    "ada.fit(x_train, yabs)\n",
    "y_test=pd.DataFrame(ada.predict(x_test))\n",
    "fin=pd.concat([test['customer_id'], y_test], axis=1)\n",
    "fin.columns=['customer_id', 'churn_risk_score']\n",
    "fin.to_csv('ada.csv', index=False)\n",
    "# 49.20840"
   ]
  },
  {
   "cell_type": "markdown",
   "id": "hindu-cambodia",
   "metadata": {},
   "source": [
    "# Choosing the best"
   ]
  },
  {
   "cell_type": "markdown",
   "id": "speaking-chicago",
   "metadata": {},
   "source": [
    "# RF"
   ]
  },
  {
   "cell_type": "code",
   "execution_count": null,
   "id": "incorrect-contractor",
   "metadata": {},
   "outputs": [],
   "source": [
    "#         'max_depth':[None, 20, 50, 100],\n",
    "#         'min_samples_split':[2, 5, 10],\n",
    "#         'max_features':[None, 5, 10, 15]\n",
    "rf1 - 76.56"
   ]
  },
  {
   "cell_type": "code",
   "execution_count": 17,
   "id": "recovered-binding",
   "metadata": {},
   "outputs": [],
   "source": [
    "rf=RandomForestClassifier()\n",
    "rf.fit(x_train, y1d)\n",
    "y_test=pd.DataFrame(rf.predict(x_test))\n",
    "fin=pd.concat([test['customer_id'], y_test], axis=1)\n",
    "fin.columns=['customer_id', 'churn_risk_score']\n",
    "fin.to_csv('rf.csv', index=False)\n",
    "# 75.69791"
   ]
  },
  {
   "cell_type": "code",
   "execution_count": 18,
   "id": "willing-range",
   "metadata": {},
   "outputs": [],
   "source": [
    "rf=RandomForestClassifier(max_depth=20, max_features=15, min_samples_split=5, n_estimators=100)\n",
    "rf.fit(x_train, y1d)\n",
    "y_test=pd.DataFrame(rf.predict(x_test))\n",
    "fin=pd.concat([test['customer_id'], y_test], axis=1)\n",
    "fin.columns=['customer_id', 'churn_risk_score']\n",
    "fin.to_csv('rf1.csv', index=False)\n",
    "# 76.05622"
   ]
  },
  {
   "cell_type": "code",
   "execution_count": 19,
   "id": "central-collapse",
   "metadata": {},
   "outputs": [],
   "source": [
    "rf=RandomForestClassifier(max_depth=20, max_features=15, min_samples_split=2, n_estimators=5000)\n",
    "rf.fit(x_train, y1d)\n",
    "y_test=pd.DataFrame(rf.predict(x_test))\n",
    "fin=pd.concat([test['customer_id'], y_test], axis=1)\n",
    "fin.columns=['customer_id', 'churn_risk_score']\n",
    "fin.to_csv('rf2.csv', index=False)\n",
    "# 75.24"
   ]
  },
  {
   "cell_type": "code",
   "execution_count": 20,
   "id": "rubber-poultry",
   "metadata": {},
   "outputs": [],
   "source": [
    "rf=RandomForestClassifier(max_depth=20, max_features=15, min_samples_split=5, n_estimators=1000)\n",
    "rf.fit(x_train, y1d)\n",
    "y_test=pd.DataFrame(rf.predict(x_test))\n",
    "fin=pd.concat([test['customer_id'], y_test], axis=1)\n",
    "fin.columns=['customer_id', 'churn_risk_score']\n",
    "fin.to_csv('rf3.csv', index=False)\n",
    "# 76.04795"
   ]
  },
  {
   "cell_type": "code",
   "execution_count": 21,
   "id": "genuine-adelaide",
   "metadata": {},
   "outputs": [],
   "source": [
    "rf=RandomForestClassifier(max_depth=50, max_features=15, min_samples_split=5, n_estimators=1000)\n",
    "rf.fit(x_train, y1d)\n",
    "y_test=pd.DataFrame(rf.predict(x_test))\n",
    "fin=pd.concat([test['customer_id'], y_test], axis=1)\n",
    "fin.columns=['customer_id', 'churn_risk_score']\n",
    "fin.to_csv('rf4.csv', index=False)\n",
    "# 76.50499--"
   ]
  },
  {
   "cell_type": "code",
   "execution_count": 22,
   "id": "breathing-vampire",
   "metadata": {},
   "outputs": [],
   "source": [
    "rf=RandomForestClassifier(max_depth=20, max_features=20, min_samples_split=5, n_estimators=1000)\n",
    "rf.fit(x_train, y1d)\n",
    "y_test=pd.DataFrame(rf.predict(x_test))\n",
    "fin=pd.concat([test['customer_id'], y_test], axis=1)\n",
    "fin.columns=['customer_id', 'churn_risk_score']\n",
    "fin.to_csv('rf5.csv', index=False)\n",
    "# 76.22893"
   ]
  },
  {
   "cell_type": "code",
   "execution_count": 23,
   "id": "loose-train",
   "metadata": {},
   "outputs": [],
   "source": [
    "rf=RandomForestClassifier(max_depth=50, max_features=20, min_samples_split=5, n_estimators=1000)\n",
    "rf.fit(x_train, y1d)\n",
    "y_test=pd.DataFrame(rf.predict(x_test))\n",
    "fin=pd.concat([test['customer_id'], y_test], axis=1)\n",
    "fin.columns=['customer_id', 'churn_risk_score']\n",
    "fin.to_csv('rf6.csv', index=False)\n",
    "# 76.00399"
   ]
  },
  {
   "cell_type": "code",
   "execution_count": 24,
   "id": "packed-desire",
   "metadata": {},
   "outputs": [],
   "source": [
    "rf=RandomForestClassifier(max_depth=20, max_features=30, min_samples_split=5, n_estimators=1000)\n",
    "rf.fit(x_train, y1d)\n",
    "y_test=pd.DataFrame(rf.predict(x_test))\n",
    "fin=pd.concat([test['customer_id'], y_test], axis=1)\n",
    "fin.columns=['customer_id', 'churn_risk_score']\n",
    "fin.to_csv('rf8.csv', index=False)\n",
    "# 76.07151"
   ]
  },
  {
   "cell_type": "code",
   "execution_count": 25,
   "id": "serial-muslim",
   "metadata": {},
   "outputs": [],
   "source": [
    "rf=RandomForestClassifier(max_depth=20, max_features=15, min_samples_split=5, n_estimators=5000)\n",
    "rf.fit(x_train, y1d)\n",
    "y_test=pd.DataFrame(rf.predict(x_test))\n",
    "fin=pd.concat([test['customer_id'], y_test], axis=1)\n",
    "fin.columns=['customer_id', 'churn_risk_score']\n",
    "fin.to_csv('rf9.csv', index=False)\n",
    "# 76.17997"
   ]
  },
  {
   "cell_type": "code",
   "execution_count": 26,
   "id": "liberal-boring",
   "metadata": {},
   "outputs": [],
   "source": [
    "rf=RandomForestClassifier(max_depth=50, max_features=15, min_samples_split=5, n_estimators=5000)\n",
    "rf.fit(x_train, y1d)\n",
    "y_test=pd.DataFrame(rf.predict(x_test))\n",
    "fin=pd.concat([test['customer_id'], y_test], axis=1)\n",
    "fin.columns=['customer_id', 'churn_risk_score']\n",
    "fin.to_csv('rf10.csv', index=False)\n",
    "# 75.95995"
   ]
  },
  {
   "cell_type": "code",
   "execution_count": 27,
   "id": "analyzed-responsibility",
   "metadata": {},
   "outputs": [],
   "source": [
    "rf=RandomForestClassifier(max_depth=20, max_features=20, min_samples_split=5, n_estimators=5000)\n",
    "rf.fit(x_train, y1d)\n",
    "y_test=pd.DataFrame(rf.predict(x_test))\n",
    "fin=pd.concat([test['customer_id'], y_test], axis=1)\n",
    "fin.columns=['customer_id', 'churn_risk_score']\n",
    "fin.to_csv('rf11.csv', index=False)\n",
    "# 76.14370"
   ]
  },
  {
   "cell_type": "code",
   "execution_count": 28,
   "id": "pleased-cotton",
   "metadata": {},
   "outputs": [],
   "source": [
    "rf=RandomForestClassifier(max_depth=20, max_features=20, min_samples_split=5, n_estimators=100)\n",
    "rf.fit(x_train, y1d)\n",
    "y_test=pd.DataFrame(rf.predict(x_test))\n",
    "fin=pd.concat([test['customer_id'], y_test], axis=1)\n",
    "fin.columns=['customer_id', 'churn_risk_score']\n",
    "fin.to_csv('rf12.csv', index=False)\n",
    "# 76.26224"
   ]
  },
  {
   "cell_type": "code",
   "execution_count": 29,
   "id": "amateur-jimmy",
   "metadata": {},
   "outputs": [],
   "source": [
    "rf=RandomForestClassifier(max_depth=100, max_features=20, min_samples_split=2, min_samples_leaf=1, bootstrap=True, n_estimators=100)\n",
    "rf.fit(x_train, y1d)\n",
    "y_test=pd.DataFrame(rf.predict(x_test))\n",
    "fin=pd.concat([test['customer_id'], y_test], axis=1)\n",
    "fin.columns=['customer_id', 'churn_risk_score']\n",
    "fin.to_csv('rf13.csv', index=False)\n",
    "# 76.13453"
   ]
  },
  {
   "cell_type": "code",
   "execution_count": 30,
   "id": "painted-organization",
   "metadata": {},
   "outputs": [],
   "source": [
    "rf=RandomForestClassifier(max_depth=30, max_features=25, min_samples_split=3, n_estimators=5000)\n",
    "rf.fit(x_train, y1d)\n",
    "y_test=pd.DataFrame(rf.predict(x_test))\n",
    "fin=pd.concat([test['customer_id'], y_test], axis=1)\n",
    "fin.columns=['customer_id', 'churn_risk_score']\n",
    "fin.to_csv('rf14.csv', index=False)\n",
    "# 76.14370"
   ]
  },
  {
   "cell_type": "code",
   "execution_count": 31,
   "id": "handled-worry",
   "metadata": {},
   "outputs": [],
   "source": [
    "rf=RandomForestClassifier(max_depth=20, max_features=15, min_samples_split=5, n_estimators=500)\n",
    "rf.fit(x_train, y1d)\n",
    "y_test=pd.DataFrame(rf.predict(x_test))\n",
    "fin=pd.concat([test['customer_id'], y_test], axis=1)\n",
    "fin.columns=['customer_id', 'churn_risk_score']\n",
    "fin.to_csv('rf15.csv', index=False)\n",
    "# 76.56"
   ]
  },
  {
   "cell_type": "code",
   "execution_count": null,
   "id": "moral-coverage",
   "metadata": {},
   "outputs": [],
   "source": []
  },
  {
   "cell_type": "markdown",
   "id": "coated-vancouver",
   "metadata": {},
   "source": [
    "# XGB"
   ]
  },
  {
   "cell_type": "code",
   "execution_count": null,
   "id": "coastal-hearts",
   "metadata": {},
   "outputs": [],
   "source": [
    "params={'learning_rate':[0.300000012, 0.1, 0.2, 0.01],\n",
    "        'gamma': [0, 1, 3],\n",
    "        'max_depth': [6, 10, 15],\n",
    "        'min_child_weight': [0, 2, 5],\n",
    "        'red_lambda': [1, 3],\n",
    "        'sampling_method':['uniform', 'gradient_based']}\n",
    "grid=GridSearchCV(XGBRegressor(gpu_id=0,tree_method='gpu_hist', n_jobs=-1), params, verbose=10)\n",
    "grid.fit(x_sc_train, ynp)\n",
    "grid.best_params_\n",
    "# {'gamma': 0,\n",
    "#  'learning_rate': 0.2,\n",
    "#  'max_depth': 6,\n",
    "#  'min_child_weight': 5,\n",
    "#  'red_lambda': 1,\n",
    "#  'sampling_method': 'uniform'}\n",
    "5- 76.50"
   ]
  },
  {
   "cell_type": "code",
   "execution_count": 32,
   "id": "latest-proposition",
   "metadata": {},
   "outputs": [],
   "source": [
    "xgb=XGBClassifier(gamma=0, learning_rate=0.3, max_depth=6, min_child_weight=1, reg_lambda=1, sampling_method='uniform')\n",
    "xgb.fit(x_train, y1d)\n",
    "y_test=pd.DataFrame(xgb.predict(x_test))\n",
    "fin=pd.concat([test['customer_id'], y_test], axis=1)\n",
    "fin.columns=['customer_id', 'churn_risk_score']\n",
    "fin.to_csv('xgb.csv', index=False)\n",
    "# 76.46553"
   ]
  },
  {
   "cell_type": "code",
   "execution_count": 33,
   "id": "substantial-lighting",
   "metadata": {},
   "outputs": [],
   "source": [
    "xgb=XGBClassifier(gamma=0, learning_rate=0.2, max_depth=6, min_child_weight=5, reg_lambda=1, sampling_method='uniform')\n",
    "xgb.fit(x_train, y1d)\n",
    "y_test=pd.DataFrame(xgb.predict(x_test))\n",
    "fin=pd.concat([test['customer_id'], y_test], axis=1)\n",
    "fin.columns=['customer_id', 'churn_risk_score']\n",
    "fin.to_csv('xgb1.csv', index=False)\n",
    "# 76.22531"
   ]
  },
  {
   "cell_type": "code",
   "execution_count": 34,
   "id": "dying-matter",
   "metadata": {},
   "outputs": [],
   "source": [
    "xgb=XGBClassifier(gamma=0, learning_rate=0.1, max_depth=6, min_child_weight=5, reg_lambda=1, sampling_method='uniform')\n",
    "xgb.fit(x_train, y1d)\n",
    "y_test=pd.DataFrame(xgb.predict(x_test))\n",
    "fin=pd.concat([test['customer_id'], y_test], axis=1)\n",
    "fin.columns=['customer_id', 'churn_risk_score']\n",
    "fin.to_csv('xgb2.csv', index=False)\n",
    "# 76.27881"
   ]
  },
  {
   "cell_type": "code",
   "execution_count": 35,
   "id": "ceramic-disco",
   "metadata": {},
   "outputs": [],
   "source": [
    "xgb=XGBClassifier(gamma=0, learning_rate=0.01, max_depth=6, min_child_weight=5, reg_lambda=1, sampling_method='uniform')\n",
    "xgb.fit(x_train, y1d)\n",
    "y_test=pd.DataFrame(xgb.predict(x_test))\n",
    "fin=pd.concat([test['customer_id'], y_test], axis=1)\n",
    "fin.columns=['customer_id', 'churn_risk_score']\n",
    "fin.to_csv('xgb3.csv', index=False)\n",
    "# 75.40368"
   ]
  },
  {
   "cell_type": "code",
   "execution_count": 36,
   "id": "hundred-ceremony",
   "metadata": {},
   "outputs": [],
   "source": [
    "xgb=XGBClassifier(gamma=0, learning_rate=0.3, max_depth=6, min_child_weight=5, reg_lambda=1, sampling_method='uniform')\n",
    "xgb.fit(x_train, y1d)\n",
    "y_test=pd.DataFrame(xgb.predict(x_test))\n",
    "fin=pd.concat([test['customer_id'], y_test], axis=1)\n",
    "fin.columns=['customer_id', 'churn_risk_score']\n",
    "fin.to_csv('xgb4.csv', index=False)\n",
    "# 75.86570"
   ]
  },
  {
   "cell_type": "code",
   "execution_count": 37,
   "id": "exceptional-management",
   "metadata": {},
   "outputs": [],
   "source": [
    "xgb=XGBClassifier(gamma=1, learning_rate=0.2, max_depth=6, min_child_weight=5, reg_lambda=1, sampling_method='uniform')\n",
    "xgb.fit(x_train, y1d)\n",
    "y_test=pd.DataFrame(xgb.predict(x_test))\n",
    "fin=pd.concat([test['customer_id'], y_test], axis=1)\n",
    "fin.columns=['customer_id', 'churn_risk_score']\n",
    "fin.to_csv('xgb5.csv', index=False)\n",
    "# 76.42308"
   ]
  },
  {
   "cell_type": "code",
   "execution_count": 38,
   "id": "convertible-florist",
   "metadata": {},
   "outputs": [],
   "source": [
    "xgb=XGBClassifier(gamma=1, learning_rate=0.2, max_depth=6, min_child_weight=1, reg_lambda=1, sampling_method='uniform')\n",
    "xgb.fit(x_train, y1d)\n",
    "y_test=pd.DataFrame(xgb.predict(x_test))\n",
    "fin=pd.concat([test['customer_id'], y_test], axis=1)\n",
    "fin.columns=['customer_id', 'churn_risk_score']\n",
    "fin.to_csv('xgb6.csv', index=False)\n",
    "# 76.12656"
   ]
  },
  {
   "cell_type": "code",
   "execution_count": 39,
   "id": "little-advisory",
   "metadata": {},
   "outputs": [],
   "source": [
    "xgb=XGBClassifier(gamma=1, learning_rate=0.2, max_depth=6, min_child_weight=10, reg_lambda=1, sampling_method='uniform')\n",
    "xgb.fit(x_train, y1d)\n",
    "y_test=pd.DataFrame(xgb.predict(x_test))\n",
    "fin=pd.concat([test['customer_id'], y_test], axis=1)\n",
    "fin.columns=['customer_id', 'churn_risk_score']\n",
    "fin.to_csv('xgb7.csv', index=False)\n",
    "# 76.14594"
   ]
  },
  {
   "cell_type": "code",
   "execution_count": 40,
   "id": "cognitive-directory",
   "metadata": {},
   "outputs": [],
   "source": [
    "xgb=XGBClassifier(gamma=1, learning_rate=0.2, max_depth=10, min_child_weight=5, reg_lambda=1, sampling_method='uniform')\n",
    "xgb.fit(x_train, y1d)\n",
    "y_test=pd.DataFrame(xgb.predict(x_test))\n",
    "fin=pd.concat([test['customer_id'], y_test], axis=1)\n",
    "fin.columns=['customer_id', 'churn_risk_score']\n",
    "fin.to_csv('xgb8.csv', index=False)\n",
    "# 76.24170--"
   ]
  },
  {
   "cell_type": "code",
   "execution_count": 41,
   "id": "adopted-banana",
   "metadata": {},
   "outputs": [],
   "source": [
    "xgb=XGBClassifier(gamma=1, learning_rate=0.2, max_depth=10, min_child_weight=10, reg_lambda=1, sampling_method='uniform')\n",
    "xgb.fit(x_train, y1d)\n",
    "y_test=pd.DataFrame(xgb.predict(x_test))\n",
    "fin=pd.concat([test['customer_id'], y_test], axis=1)\n",
    "fin.columns=['customer_id', 'churn_risk_score']\n",
    "fin.to_csv('xgb9.csv', index=False)\n",
    "# 75.91932"
   ]
  },
  {
   "cell_type": "code",
   "execution_count": 42,
   "id": "executed-eligibility",
   "metadata": {},
   "outputs": [],
   "source": [
    "xgb=XGBClassifier(gamma=1, learning_rate=0.2, max_depth=6, min_child_weight=5, reg_lambda=1, reg_alpha=1, sampling_method='uniform')\n",
    "xgb.fit(x_train, y1d)\n",
    "y_test=pd.DataFrame(xgb.predict(x_test))\n",
    "fin=pd.concat([test['customer_id'], y_test], axis=1)\n",
    "fin.columns=['customer_id', 'churn_risk_score']\n",
    "fin.to_csv('xgb10.csv', index=False)\n",
    "# 75.92505"
   ]
  },
  {
   "cell_type": "code",
   "execution_count": 43,
   "id": "popular-sauce",
   "metadata": {},
   "outputs": [],
   "source": [
    "xgb=XGBClassifier(gamma=1, learning_rate=0.2, max_depth=6, min_child_weight=10, reg_lambda=1, reg_alpha=1, sampling_method='uniform')\n",
    "xgb.fit(x_train, y1d)\n",
    "y_test=pd.DataFrame(xgb.predict(x_test))\n",
    "fin=pd.concat([test['customer_id'], y_test], axis=1)\n",
    "fin.columns=['customer_id', 'churn_risk_score']\n",
    "fin.to_csv('xgb11.csv', index=False)\n",
    "# 76.11484"
   ]
  },
  {
   "cell_type": "code",
   "execution_count": 44,
   "id": "primary-bachelor",
   "metadata": {},
   "outputs": [],
   "source": [
    "xgb=XGBClassifier(gamma=2, learning_rate=0.2, max_depth=6, min_child_weight=5, reg_lambda=1, sampling_method='uniform')\n",
    "xgb.fit(x_train, y1d)\n",
    "y_test=pd.DataFrame(xgb.predict(x_test))\n",
    "fin=pd.concat([test['customer_id'], y_test], axis=1)\n",
    "fin.columns=['customer_id', 'churn_risk_score']\n",
    "fin.to_csv('xgb12.csv', index=False)\n",
    "# 76.21041"
   ]
  },
  {
   "cell_type": "code",
   "execution_count": 45,
   "id": "frank-narrow",
   "metadata": {},
   "outputs": [],
   "source": [
    "xgb=XGBClassifier(gamma=0, learning_rate=0.2, max_depth=6, min_child_weight=5, reg_lambda=1, reg_alpha=1, sampling_method='uniform')\n",
    "xgb.fit(x_train, y1d)\n",
    "y_test=pd.DataFrame(xgb.predict(x_test))\n",
    "fin=pd.concat([test['customer_id'], y_test], axis=1)\n",
    "fin.columns=['customer_id', 'churn_risk_score']\n",
    "fin.to_csv('xgb13.csv', index=False)\n",
    "# 76.14331"
   ]
  },
  {
   "cell_type": "code",
   "execution_count": 46,
   "id": "transsexual-deadline",
   "metadata": {},
   "outputs": [],
   "source": [
    "xgb=XGBClassifier(gamma=1, learning_rate=0.2, max_depth=5, min_child_weight=5, reg_lambda=1, sampling_method='uniform')\n",
    "xgb.fit(x_train, y1d)\n",
    "y_test=pd.DataFrame(xgb.predict(x_test))\n",
    "fin=pd.concat([test['customer_id'], y_test], axis=1)\n",
    "fin.columns=['customer_id', 'churn_risk_score']\n",
    "fin.to_csv('xgb14.csv', index=False)\n",
    "# 76.24698"
   ]
  },
  {
   "cell_type": "code",
   "execution_count": 47,
   "id": "cooked-receipt",
   "metadata": {},
   "outputs": [],
   "source": [
    "xgb=XGBClassifier(gamma=1, learning_rate=0.2, max_depth=6, min_child_weight=5, reg_lambda=1, sampling_method='uniform', \n",
    "                  subsample=0.7, colsample_bytree=0.7)\n",
    "xgb.fit(x_train, y1d)\n",
    "y_test=pd.DataFrame(xgb.predict(x_test))\n",
    "fin=pd.concat([test['customer_id'], y_test], axis=1)\n",
    "fin.columns=['customer_id', 'churn_risk_score']\n",
    "fin.to_csv('xgb15.csv', index=False)\n",
    "# 76.15158"
   ]
  },
  {
   "cell_type": "code",
   "execution_count": 48,
   "id": "special-metropolitan",
   "metadata": {},
   "outputs": [],
   "source": [
    "xgb=XGBClassifier(gamma=1, learning_rate=0.2, max_depth=6, min_child_weight=5, reg_lambda=1, sampling_method='uniform', subsample=0.7)\n",
    "xgb.fit(x_train, y1d)\n",
    "y_test=pd.DataFrame(xgb.predict(x_test))\n",
    "fin=pd.concat([test['customer_id'], y_test], axis=1)\n",
    "fin.columns=['customer_id', 'churn_risk_score']\n",
    "fin.to_csv('xgb16.csv', index=False)\n",
    "# 75.68550"
   ]
  },
  {
   "cell_type": "code",
   "execution_count": 49,
   "id": "spare-bowling",
   "metadata": {},
   "outputs": [],
   "source": [
    "xgb=XGBClassifier(gamma=1, learning_rate=0.2, max_depth=6, min_child_weight=5, reg_lambda=1, sampling_method='uniform', subsample=0.8)\n",
    "xgb.fit(x_train, y1d)\n",
    "y_test=pd.DataFrame(xgb.predict(x_test))\n",
    "fin=pd.concat([test['customer_id'], y_test], axis=1)\n",
    "fin.columns=['customer_id', 'churn_risk_score']\n",
    "fin.to_csv('xgb17.csv', index=False)\n",
    "# 76.27809"
   ]
  },
  {
   "cell_type": "code",
   "execution_count": 50,
   "id": "existing-isaac",
   "metadata": {},
   "outputs": [],
   "source": [
    "xgb=XGBClassifier(gamma=1, learning_rate=0.2, max_depth=6, min_child_weight=5, reg_lambda=1, sampling_method='uniform', \n",
    "                  subsample=0.8, colsample_bytree=0.8)\n",
    "xgb.fit(x_train, y1d)\n",
    "y_test=pd.DataFrame(xgb.predict(x_test))\n",
    "fin=pd.concat([test['customer_id'], y_test], axis=1)\n",
    "fin.columns=['customer_id', 'churn_risk_score']\n",
    "fin.to_csv('xgb18.csv', index=False)\n",
    "# 76.12090"
   ]
  },
  {
   "cell_type": "code",
   "execution_count": 51,
   "id": "prospective-beginning",
   "metadata": {},
   "outputs": [],
   "source": [
    "xgb=XGBClassifier(gamma=1, learning_rate=0.2, max_depth=6, min_child_weight=5, reg_lambda=0.5, sampling_method='uniform')\n",
    "xgb.fit(x_train, y1d)\n",
    "y_test=pd.DataFrame(xgb.predict(x_test))\n",
    "fin=pd.concat([test['customer_id'], y_test], axis=1)\n",
    "fin.columns=['customer_id', 'churn_risk_score']\n",
    "fin.to_csv('xgb19.csv', index=False)\n",
    "# 76.11515"
   ]
  },
  {
   "cell_type": "code",
   "execution_count": null,
   "id": "early-crossing",
   "metadata": {},
   "outputs": [],
   "source": []
  },
  {
   "cell_type": "markdown",
   "id": "abandoned-antigua",
   "metadata": {},
   "source": [
    "# GB"
   ]
  },
  {
   "cell_type": "code",
   "execution_count": null,
   "id": "formal-store",
   "metadata": {},
   "outputs": [],
   "source": [
    "# learning_rate=0.1\n",
    "# n_estimators=100\n",
    "# min_samples_split=2\n",
    "# min_samples_leaf=1\n",
    "# max_depth=3\n",
    "\n",
    "12- 76.61"
   ]
  },
  {
   "cell_type": "code",
   "execution_count": 52,
   "id": "responsible-physics",
   "metadata": {},
   "outputs": [],
   "source": [
    "gbr=GradientBoostingClassifier(learning_rate=0.1, n_estimators=100, min_samples_split=2, min_samples_leaf=1, max_depth=3)\n",
    "gbr.fit(x_train, y1d)\n",
    "y_test=pd.DataFrame(gbr.predict(x_test))\n",
    "fin=pd.concat([test['customer_id'], y_test], axis=1)\n",
    "fin.columns=['customer_id', 'churn_risk_score']\n",
    "fin.to_csv('gbr.csv', index=False)\n",
    "# 76.48140--"
   ]
  },
  {
   "cell_type": "code",
   "execution_count": 53,
   "id": "consistent-restaurant",
   "metadata": {},
   "outputs": [],
   "source": [
    "gbr=GradientBoostingClassifier(learning_rate=0.2, n_estimators=100, min_samples_split=2, min_samples_leaf=1, max_depth=3)\n",
    "gbr.fit(x_train, y1d)\n",
    "y_test=pd.DataFrame(gbr.predict(x_test))\n",
    "fin=pd.concat([test['customer_id'], y_test], axis=1)\n",
    "fin.columns=['customer_id', 'churn_risk_score']\n",
    "fin.to_csv('gbr1.csv', index=False)\n",
    "# 76.48270--"
   ]
  },
  {
   "cell_type": "code",
   "execution_count": 54,
   "id": "noted-miniature",
   "metadata": {},
   "outputs": [],
   "source": [
    "gbr=GradientBoostingClassifier(learning_rate=0.3, n_estimators=100, min_samples_split=2, min_samples_leaf=1, max_depth=3)\n",
    "gbr.fit(x_train, y1d)\n",
    "y_test=pd.DataFrame(gbr.predict(x_test))\n",
    "fin=pd.concat([test['customer_id'], y_test], axis=1)\n",
    "fin.columns=['customer_id', 'churn_risk_score']\n",
    "fin.to_csv('gbr2.csv', index=False)\n",
    "# 75.82118"
   ]
  },
  {
   "cell_type": "code",
   "execution_count": 55,
   "id": "authentic-kidney",
   "metadata": {},
   "outputs": [],
   "source": [
    "gbr=GradientBoostingClassifier(learning_rate=0.05, n_estimators=100, min_samples_split=2, min_samples_leaf=1, max_depth=3)\n",
    "gbr.fit(x_train, y1d)\n",
    "y_test=pd.DataFrame(gbr.predict(x_test))\n",
    "fin=pd.concat([test['customer_id'], y_test], axis=1)\n",
    "fin.columns=['customer_id', 'churn_risk_score']\n",
    "fin.to_csv('gbr3.csv', index=False)\n",
    "# 76.19001"
   ]
  },
  {
   "cell_type": "code",
   "execution_count": 56,
   "id": "seventh-florida",
   "metadata": {},
   "outputs": [],
   "source": [
    "gbr=GradientBoostingClassifier(learning_rate=0.01, n_estimators=100, min_samples_split=2, min_samples_leaf=1, max_depth=3)\n",
    "gbr.fit(x_train, y1d)\n",
    "y_test=pd.DataFrame(gbr.predict(x_test))\n",
    "fin=pd.concat([test['customer_id'], y_test], axis=1)\n",
    "fin.columns=['customer_id', 'churn_risk_score']\n",
    "fin.to_csv('gbr4.csv', index=False)\n",
    "# 66.78013"
   ]
  },
  {
   "cell_type": "code",
   "execution_count": 57,
   "id": "violent-performer",
   "metadata": {},
   "outputs": [],
   "source": [
    "gbr=GradientBoostingClassifier(learning_rate=0.1, n_estimators=100, min_samples_split=5, min_samples_leaf=1, max_depth=3)\n",
    "gbr.fit(x_train, y1d)\n",
    "y_test=pd.DataFrame(gbr.predict(x_test))\n",
    "fin=pd.concat([test['customer_id'], y_test], axis=1)\n",
    "fin.columns=['customer_id', 'churn_risk_score']\n",
    "fin.to_csv('gbr5.csv', index=False)\n",
    "# 76.28894"
   ]
  },
  {
   "cell_type": "code",
   "execution_count": 58,
   "id": "ruled-nothing",
   "metadata": {},
   "outputs": [],
   "source": [
    "gbr=GradientBoostingClassifier(learning_rate=0.1, n_estimators=100, min_samples_split=10, min_samples_leaf=1, max_depth=3)\n",
    "gbr.fit(x_train, y1d)\n",
    "y_test=pd.DataFrame(gbr.predict(x_test))\n",
    "fin=pd.concat([test['customer_id'], y_test], axis=1)\n",
    "fin.columns=['customer_id', 'churn_risk_score']\n",
    "fin.to_csv('gbr6.csv', index=False)\n",
    "# 76.32689"
   ]
  },
  {
   "cell_type": "code",
   "execution_count": 59,
   "id": "common-bargain",
   "metadata": {},
   "outputs": [],
   "source": [
    "gbr=GradientBoostingClassifier(learning_rate=0.2, n_estimators=100, min_samples_split=10, min_samples_leaf=1, max_depth=3)\n",
    "gbr.fit(x_train, y1d)\n",
    "y_test=pd.DataFrame(gbr.predict(x_test))\n",
    "fin=pd.concat([test['customer_id'], y_test], axis=1)\n",
    "fin.columns=['customer_id', 'churn_risk_score']\n",
    "fin.to_csv('gbr7.csv', index=False)\n",
    "# 76.23836"
   ]
  },
  {
   "cell_type": "code",
   "execution_count": 60,
   "id": "authorized-victoria",
   "metadata": {},
   "outputs": [],
   "source": [
    "gbr=GradientBoostingClassifier(learning_rate=0.1, n_estimators=100, min_samples_split=10, min_samples_leaf=1, max_depth=5)\n",
    "gbr.fit(x_train, y1d)\n",
    "y_test=pd.DataFrame(gbr.predict(x_test))\n",
    "fin=pd.concat([test['customer_id'], y_test], axis=1)\n",
    "fin.columns=['customer_id', 'churn_risk_score']\n",
    "fin.to_csv('gbr8.csv', index=False)\n",
    "# 75.62583"
   ]
  },
  {
   "cell_type": "code",
   "execution_count": 61,
   "id": "medical-floor",
   "metadata": {},
   "outputs": [],
   "source": [
    "gbr=GradientBoostingClassifier(learning_rate=0.1, n_estimators=200, min_samples_split=2, min_samples_leaf=1, max_depth=3)\n",
    "gbr.fit(x_train, y1d)\n",
    "y_test=pd.DataFrame(gbr.predict(x_test))\n",
    "fin=pd.concat([test['customer_id'], y_test], axis=1)\n",
    "fin.columns=['customer_id', 'churn_risk_score']\n",
    "fin.to_csv('gbr9.csv', index=False)\n",
    "# 76.58300"
   ]
  },
  {
   "cell_type": "code",
   "execution_count": 62,
   "id": "injured-psychiatry",
   "metadata": {},
   "outputs": [],
   "source": [
    "gbr=GradientBoostingClassifier(learning_rate=0.1, n_estimators=500, min_samples_split=2, min_samples_leaf=1, max_depth=3)\n",
    "gbr.fit(x_train, y1d)\n",
    "y_test=pd.DataFrame(gbr.predict(x_test))\n",
    "fin=pd.concat([test['customer_id'], y_test], axis=1)\n",
    "fin.columns=['customer_id', 'churn_risk_score']\n",
    "fin.to_csv('gbr10.csv', index=False)\n",
    "# 75.97324"
   ]
  },
  {
   "cell_type": "code",
   "execution_count": 11,
   "id": "stuffed-netherlands",
   "metadata": {},
   "outputs": [],
   "source": [
    "gbr=GradientBoostingClassifier(learning_rate=0.1, n_estimators=1000, min_samples_split=2, min_samples_leaf=1, max_depth=3)\n",
    "gbr.fit(x_train, y1d)\n",
    "y_test=pd.DataFrame(gbr.predict(x_test))\n",
    "fin=pd.concat([test['customer_id'], y_test], axis=1)\n",
    "fin.columns=['customer_id', 'churn_risk_score']\n",
    "fin.to_csv('gbr11.csv', index=False)\n",
    "# 75.86020"
   ]
  },
  {
   "cell_type": "code",
   "execution_count": 12,
   "id": "molecular-threshold",
   "metadata": {},
   "outputs": [],
   "source": [
    "gbr=GradientBoostingClassifier(learning_rate=0.1, n_estimators=300, min_samples_split=2, min_samples_leaf=1, max_depth=3)\n",
    "gbr.fit(x_train, y1d)\n",
    "y_test=pd.DataFrame(gbr.predict(x_test))\n",
    "fin=pd.concat([test['customer_id'], y_test], axis=1)\n",
    "fin.columns=['customer_id', 'churn_risk_score']\n",
    "fin.to_csv('gbr12.csv', index=False)\n",
    "# 76.44777"
   ]
  },
  {
   "cell_type": "code",
   "execution_count": 13,
   "id": "wrapped-engagement",
   "metadata": {},
   "outputs": [],
   "source": [
    "gbr=GradientBoostingClassifier(learning_rate=0.1, n_estimators=300, min_samples_split=5, min_samples_leaf=1, max_depth=3)\n",
    "gbr.fit(x_train, y1d)\n",
    "y_test=pd.DataFrame(gbr.predict(x_test))\n",
    "fin=pd.concat([test['customer_id'], y_test], axis=1)\n",
    "fin.columns=['customer_id', 'churn_risk_score']\n",
    "fin.to_csv('gbr13.csv', index=False)\n",
    "# 76.32619"
   ]
  },
  {
   "cell_type": "code",
   "execution_count": 14,
   "id": "identified-determination",
   "metadata": {},
   "outputs": [],
   "source": [
    "gbr=GradientBoostingClassifier(learning_rate=0.1, n_estimators=300, min_samples_split=2, min_samples_leaf=2, max_depth=3)\n",
    "gbr.fit(x_train, y1d)\n",
    "y_test=pd.DataFrame(gbr.predict(x_test))\n",
    "fin=pd.concat([test['customer_id'], y_test], axis=1)\n",
    "fin.columns=['customer_id', 'churn_risk_score']\n",
    "fin.to_csv('gbr14.csv', index=False)\n",
    "# 76.19080"
   ]
  },
  {
   "cell_type": "code",
   "execution_count": 15,
   "id": "governing-fisher",
   "metadata": {},
   "outputs": [],
   "source": [
    "gbr=GradientBoostingClassifier(learning_rate=0.1, n_estimators=100, min_samples_split=2, min_samples_leaf=1, max_depth=3)\n",
    "gbr.fit(x_train, y1d)\n",
    "y_test=pd.DataFrame(gbr.predict(x_test))\n",
    "fin=pd.concat([test['customer_id'], y_test], axis=1)\n",
    "fin.columns=['customer_id', 'churn_risk_score']\n",
    "fin.to_csv('gbr.csv', index=False)\n",
    "# 76.36151"
   ]
  },
  {
   "cell_type": "code",
   "execution_count": null,
   "id": "framed-context",
   "metadata": {},
   "outputs": [],
   "source": []
  },
  {
   "cell_type": "markdown",
   "id": "painted-brooklyn",
   "metadata": {},
   "source": [
    "# CAT"
   ]
  },
  {
   "cell_type": "code",
   "execution_count": 19,
   "id": "pharmaceutical-massachusetts",
   "metadata": {},
   "outputs": [],
   "source": [
    "params={'iterations':[500, 1000, 1500, 2000],\n",
    "        'learning_rate':[0.03, 0.02, 0.01, 0.1, 0.2, 0.3],\n",
    "        'l2_leaf_reg':[1.0, 3.0, 5.0, 7.0],\n",
    "        'depth':[6, 10, 16],\n",
    "        'grow_policy':['Lossguide', 'SymmetricTree']}\n",
    "grid=RandomizedSearchCV(CatBoostRegressor(logging_level='Silent'),\n",
    "                  params, verbose=10)\n",
    "grid.fit(x_train, y1d)\n",
    "grid.best_params_\n",
    "# {'depth': 16,\n",
    "#  'grow_policy': 'Lossguide',\n",
    "#  'iterations': 1000,\n",
    "#  'l2_leaf_reg': 3.0,\n",
    "#  'learning_rate': 0.03}\n",
    "14- 76.51"
   ]
  },
  {
   "cell_type": "code",
   "execution_count": 16,
   "id": "imported-hunger",
   "metadata": {},
   "outputs": [
    {
     "data": {
      "text/plain": [
       "0.029999999329447743"
      ]
     },
     "execution_count": 16,
     "metadata": {},
     "output_type": "execute_result"
    }
   ],
   "source": [
    "cat=CatBoostClassifier(logging_level='Silent', iterations=1000, l2_leaf_reg=3.0, depth=6, grow_policy=\"SymmetricTree\")\n",
    "cat.fit(x_train, y1d)\n",
    "y_test=pd.DataFrame(cat.predict(x_test))\n",
    "fin=pd.concat([test['customer_id'], y_test], axis=1)\n",
    "fin.columns=['customer_id', 'churn_risk_score']\n",
    "fin.to_csv('cat.csv', index=False)\n",
    "# 76.24766--\n",
    "cat.get_all_params()['learning_rate']"
   ]
  },
  {
   "cell_type": "code",
   "execution_count": 17,
   "id": "cheap-bunny",
   "metadata": {},
   "outputs": [
    {
     "data": {
      "text/plain": [
       "0.029999999329447743"
      ]
     },
     "execution_count": 17,
     "metadata": {},
     "output_type": "execute_result"
    }
   ],
   "source": [
    "cat=CatBoostClassifier(logging_level='Silent', iterations=1000, l2_leaf_reg=3.0, depth=6, grow_policy=\"Lossguide\")\n",
    "cat.fit(x_train, y1d)\n",
    "y_test=pd.DataFrame(cat.predict(x_test))\n",
    "fin=pd.concat([test['customer_id'], y_test], axis=1)\n",
    "fin.columns=['customer_id', 'churn_risk_score']\n",
    "fin.to_csv('cat1.csv', index=False)\n",
    "# 76.31847--\n",
    "cat.get_all_params()['learning_rate']"
   ]
  },
  {
   "cell_type": "code",
   "execution_count": 18,
   "id": "favorite-weight",
   "metadata": {},
   "outputs": [
    {
     "data": {
      "text/plain": [
       "0.029999999329447743"
      ]
     },
     "execution_count": 18,
     "metadata": {},
     "output_type": "execute_result"
    }
   ],
   "source": [
    "cat=CatBoostClassifier(logging_level='Silent', iterations=500, l2_leaf_reg=3.0, depth=6, grow_policy=\"SymmetricTree\")\n",
    "cat.fit(x_train, y1d)\n",
    "y_test=pd.DataFrame(cat.predict(x_test))\n",
    "fin=pd.concat([test['customer_id'], y_test], axis=1)\n",
    "fin.columns=['customer_id', 'churn_risk_score']\n",
    "fin.to_csv('cat2.csv', index=False)\n",
    "# 76.37977--\n",
    "cat.get_all_params()['learning_rate']"
   ]
  },
  {
   "cell_type": "code",
   "execution_count": 19,
   "id": "vulnerable-butter",
   "metadata": {},
   "outputs": [
    {
     "data": {
      "text/plain": [
       "0.029999999329447743"
      ]
     },
     "execution_count": 19,
     "metadata": {},
     "output_type": "execute_result"
    }
   ],
   "source": [
    "cat=CatBoostClassifier(logging_level='Silent', iterations=800, l2_leaf_reg=3.0, depth=6, grow_policy=\"SymmetricTree\")\n",
    "cat.fit(x_train, y1d)\n",
    "y_test=pd.DataFrame(cat.predict(x_test))\n",
    "fin=pd.concat([test['customer_id'], y_test], axis=1)\n",
    "fin.columns=['customer_id', 'churn_risk_score']\n",
    "fin.to_csv('cat3.csv', index=False)\n",
    "# 76.16426\n",
    "cat.get_all_params()['learning_rate']"
   ]
  },
  {
   "cell_type": "code",
   "execution_count": 20,
   "id": "acute-capital",
   "metadata": {},
   "outputs": [
    {
     "data": {
      "text/plain": [
       "0.029999999329447743"
      ]
     },
     "execution_count": 20,
     "metadata": {},
     "output_type": "execute_result"
    }
   ],
   "source": [
    "cat=CatBoostClassifier(logging_level='Silent', iterations=500, l2_leaf_reg=3.0, depth=6, grow_policy=\"Lossguide\")\n",
    "cat.fit(x_train, y1d)\n",
    "y_test=pd.DataFrame(cat.predict(x_test))\n",
    "fin=pd.concat([test['customer_id'], y_test], axis=1)\n",
    "fin.columns=['customer_id', 'churn_risk_score']\n",
    "fin.to_csv('cat4.csv', index=False)\n",
    "# 76.59734--\n",
    "cat.get_all_params()['learning_rate']"
   ]
  },
  {
   "cell_type": "code",
   "execution_count": 21,
   "id": "secure-wallpaper",
   "metadata": {},
   "outputs": [
    {
     "data": {
      "text/plain": [
       "0.029999999329447743"
      ]
     },
     "execution_count": 21,
     "metadata": {},
     "output_type": "execute_result"
    }
   ],
   "source": [
    "cat=CatBoostClassifier(logging_level='Silent', iterations=800, l2_leaf_reg=3.0, depth=6, grow_policy=\"Lossguide\")\n",
    "cat.fit(x_train, y1d)\n",
    "y_test=pd.DataFrame(cat.predict(x_test))\n",
    "fin=pd.concat([test['customer_id'], y_test], axis=1)\n",
    "fin.columns=['customer_id', 'churn_risk_score']\n",
    "fin.to_csv('cat5.csv', index=False)\n",
    "# 76.27547\n",
    "cat.get_all_params()['learning_rate']"
   ]
  },
  {
   "cell_type": "code",
   "execution_count": 22,
   "id": "shaped-being",
   "metadata": {},
   "outputs": [
    {
     "data": {
      "text/plain": [
       "0.029999999329447743"
      ]
     },
     "execution_count": 22,
     "metadata": {},
     "output_type": "execute_result"
    }
   ],
   "source": [
    "cat=CatBoostClassifier(logging_level='Silent', iterations=1000, l2_leaf_reg=3.0, depth=16, grow_policy=\"Lossguide\")\n",
    "cat.fit(x_train, y1d)\n",
    "y_test=pd.DataFrame(cat.predict(x_test))\n",
    "fin=pd.concat([test['customer_id'], y_test], axis=1)\n",
    "fin.columns=['customer_id', 'churn_risk_score']\n",
    "fin.to_csv('cat6.csv', index=False)\n",
    "# 76.22987\n",
    "cat.get_all_params()['learning_rate']"
   ]
  },
  {
   "cell_type": "code",
   "execution_count": 23,
   "id": "organic-reynolds",
   "metadata": {},
   "outputs": [
    {
     "data": {
      "text/plain": [
       "0.029999999329447743"
      ]
     },
     "execution_count": 23,
     "metadata": {},
     "output_type": "execute_result"
    }
   ],
   "source": [
    "cat=CatBoostClassifier(logging_level='Silent', iterations=800, l2_leaf_reg=3.0, depth=16, grow_policy=\"Lossguide\")\n",
    "cat.fit(x_train, y1d)\n",
    "y_test=pd.DataFrame(cat.predict(x_test))\n",
    "fin=pd.concat([test['customer_id'], y_test], axis=1)\n",
    "fin.columns=['customer_id', 'churn_risk_score']\n",
    "fin.to_csv('cat7.csv', index=False)\n",
    "# 76.67810--\n",
    "cat.get_all_params()['learning_rate']"
   ]
  },
  {
   "cell_type": "code",
   "execution_count": 24,
   "id": "stock-alaska",
   "metadata": {},
   "outputs": [
    {
     "data": {
      "text/plain": [
       "0.029999999329447743"
      ]
     },
     "execution_count": 24,
     "metadata": {},
     "output_type": "execute_result"
    }
   ],
   "source": [
    "cat=CatBoostClassifier(logging_level='Silent', iterations=800, l2_leaf_reg=3.0, depth=10, grow_policy=\"Lossguide\")\n",
    "cat.fit(x_train, y1d)\n",
    "y_test=pd.DataFrame(cat.predict(x_test))\n",
    "fin=pd.concat([test['customer_id'], y_test], axis=1)\n",
    "fin.columns=['customer_id', 'churn_risk_score']\n",
    "fin.to_csv('cat8.csv', index=False)\n",
    "# 76.13747\n",
    "cat.get_all_params()['learning_rate']"
   ]
  },
  {
   "cell_type": "code",
   "execution_count": 25,
   "id": "powerful-million",
   "metadata": {},
   "outputs": [
    {
     "data": {
      "text/plain": [
       "0.029999999329447743"
      ]
     },
     "execution_count": 25,
     "metadata": {},
     "output_type": "execute_result"
    }
   ],
   "source": [
    "cat=CatBoostClassifier(logging_level='Silent', iterations=500, l2_leaf_reg=3.0, depth=16, grow_policy=\"Lossguide\")\n",
    "cat.fit(x_train, y1d)\n",
    "y_test=pd.DataFrame(cat.predict(x_test))\n",
    "fin=pd.concat([test['customer_id'], y_test], axis=1)\n",
    "fin.columns=['customer_id', 'churn_risk_score']\n",
    "fin.to_csv('cat9.csv', index=False)\n",
    "# 76.47830\n",
    "cat.get_all_params()['learning_rate']"
   ]
  },
  {
   "cell_type": "code",
   "execution_count": 26,
   "id": "accurate-developer",
   "metadata": {},
   "outputs": [
    {
     "data": {
      "text/plain": [
       "0.029999999329447743"
      ]
     },
     "execution_count": 26,
     "metadata": {},
     "output_type": "execute_result"
    }
   ],
   "source": [
    "cat=CatBoostClassifier(logging_level='Silent', iterations=500, l2_leaf_reg=3.0, depth=10, grow_policy=\"Lossguide\")\n",
    "cat.fit(x_train, y1d)\n",
    "y_test=pd.DataFrame(cat.predict(x_test))\n",
    "fin=pd.concat([test['customer_id'], y_test], axis=1)\n",
    "fin.columns=['customer_id', 'churn_risk_score']\n",
    "fin.to_csv('cat10.csv', index=False)\n",
    "# 76.33930\n",
    "cat.get_all_params()['learning_rate']"
   ]
  },
  {
   "cell_type": "code",
   "execution_count": 27,
   "id": "centered-basic",
   "metadata": {},
   "outputs": [
    {
     "data": {
      "text/plain": [
       "0.029999999329447743"
      ]
     },
     "execution_count": 27,
     "metadata": {},
     "output_type": "execute_result"
    }
   ],
   "source": [
    "cat=CatBoostClassifier(logging_level='Silent', iterations=1500, l2_leaf_reg=3.0, depth=16, grow_policy=\"Lossguide\")\n",
    "cat.fit(x_train, y1d)\n",
    "y_test=pd.DataFrame(cat.predict(x_test))\n",
    "fin=pd.concat([test['customer_id'], y_test], axis=1)\n",
    "fin.columns=['customer_id', 'churn_risk_score']\n",
    "fin.to_csv('cat11.csv', index=False)\n",
    "# forgot to recode 76.10\n",
    "cat.get_all_params()['learning_rate']"
   ]
  },
  {
   "cell_type": "code",
   "execution_count": 28,
   "id": "active-innocent",
   "metadata": {},
   "outputs": [
    {
     "data": {
      "text/plain": [
       "0.10000000149011612"
      ]
     },
     "execution_count": 28,
     "metadata": {},
     "output_type": "execute_result"
    }
   ],
   "source": [
    "cat=CatBoostClassifier(learning_rate=0.1, logging_level='Silent', iterations=500, l2_leaf_reg=3.0, depth=16, grow_policy=\"Lossguide\")\n",
    "cat.fit(x_train, y1d)\n",
    "y_test=pd.DataFrame(cat.predict(x_test))\n",
    "fin=pd.concat([test['customer_id'], y_test], axis=1)\n",
    "fin.columns=['customer_id', 'churn_risk_score']\n",
    "fin.to_csv('cat12.csv', index=False)\n",
    "# 76.31254\n",
    "cat.get_all_params()['learning_rate']"
   ]
  },
  {
   "cell_type": "code",
   "execution_count": 29,
   "id": "downtown-encoding",
   "metadata": {},
   "outputs": [
    {
     "data": {
      "text/plain": [
       "0.05000000074505806"
      ]
     },
     "execution_count": 29,
     "metadata": {},
     "output_type": "execute_result"
    }
   ],
   "source": [
    "cat=CatBoostClassifier(learning_rate=0.05, logging_level='Silent', iterations=500, l2_leaf_reg=3.0, depth=16, grow_policy=\"Lossguide\")\n",
    "cat.fit(x_train, y1d)\n",
    "y_test=pd.DataFrame(cat.predict(x_test))\n",
    "fin=pd.concat([test['customer_id'], y_test], axis=1)\n",
    "fin.columns=['customer_id', 'churn_risk_score']\n",
    "fin.to_csv('cat13.csv', index=False)\n",
    "# 76.25858\n",
    "cat.get_all_params()['learning_rate']"
   ]
  },
  {
   "cell_type": "code",
   "execution_count": 30,
   "id": "noted-estate",
   "metadata": {},
   "outputs": [
    {
     "data": {
      "text/plain": [
       "0.10000000149011612"
      ]
     },
     "execution_count": 30,
     "metadata": {},
     "output_type": "execute_result"
    }
   ],
   "source": [
    "cat=CatBoostClassifier(learning_rate=0.1, logging_level='Silent', iterations=1500, l2_leaf_reg=3.0, depth=16, grow_policy=\"Lossguide\")\n",
    "cat.fit(x_train, y1d)\n",
    "y_test=pd.DataFrame(cat.predict(x_test))\n",
    "fin=pd.concat([test['customer_id'], y_test], axis=1)\n",
    "fin.columns=['customer_id', 'churn_risk_score']\n",
    "fin.to_csv('cat14.csv', index=False)\n",
    "# 76.11609\n",
    "cat.get_all_params()['learning_rate']"
   ]
  },
  {
   "cell_type": "code",
   "execution_count": 31,
   "id": "dedicated-stevens",
   "metadata": {},
   "outputs": [
    {
     "data": {
      "text/plain": [
       "0.05000000074505806"
      ]
     },
     "execution_count": 31,
     "metadata": {},
     "output_type": "execute_result"
    }
   ],
   "source": [
    "cat=CatBoostClassifier(learning_rate=0.05, logging_level='Silent', iterations=1500, l2_leaf_reg=3.0, depth=16, grow_policy=\"Lossguide\")\n",
    "cat.fit(x_train, y1d)\n",
    "y_test=pd.DataFrame(cat.predict(x_test))\n",
    "fin=pd.concat([test['customer_id'], y_test], axis=1)\n",
    "fin.columns=['customer_id', 'churn_risk_score']\n",
    "fin.to_csv('cat15.csv', index=False)\n",
    "# 75.89816\n",
    "cat.get_all_params()['learning_rate']"
   ]
  },
  {
   "cell_type": "code",
   "execution_count": 32,
   "id": "productive-composition",
   "metadata": {},
   "outputs": [
    {
     "data": {
      "text/plain": [
       "0.20000000298023224"
      ]
     },
     "execution_count": 32,
     "metadata": {},
     "output_type": "execute_result"
    }
   ],
   "source": [
    "cat=CatBoostClassifier(learning_rate=0.2, logging_level='Silent', iterations=1500, l2_leaf_reg=3.0, depth=16, grow_policy=\"Lossguide\")\n",
    "cat.fit(x_train, y1d)\n",
    "y_test=pd.DataFrame(cat.predict(x_test))\n",
    "fin=pd.concat([test['customer_id'], y_test], axis=1)\n",
    "fin.columns=['customer_id', 'churn_risk_score']\n",
    "fin.to_csv('cat16.csv', index=False)\n",
    "# 76.31995\n",
    "cat.get_all_params()['learning_rate']"
   ]
  },
  {
   "cell_type": "code",
   "execution_count": 33,
   "id": "light-plate",
   "metadata": {},
   "outputs": [
    {
     "data": {
      "text/plain": [
       "0.20000000298023224"
      ]
     },
     "execution_count": 33,
     "metadata": {},
     "output_type": "execute_result"
    }
   ],
   "source": [
    "cat=CatBoostClassifier(learning_rate=0.2, logging_level='Silent', iterations=500, l2_leaf_reg=3.0, depth=16, grow_policy=\"Lossguide\")\n",
    "cat.fit(x_train, y1d)\n",
    "y_test=pd.DataFrame(cat.predict(x_test))\n",
    "fin=pd.concat([test['customer_id'], y_test], axis=1)\n",
    "fin.columns=['customer_id', 'churn_risk_score']\n",
    "fin.to_csv('cat17.csv', index=False)\n",
    "# 76.19633\n",
    "cat.get_all_params()['learning_rate']"
   ]
  },
  {
   "cell_type": "markdown",
   "id": "stuck-foundation",
   "metadata": {},
   "source": [
    "# LGB"
   ]
  },
  {
   "cell_type": "code",
   "execution_count": null,
   "id": "touched-favor",
   "metadata": {},
   "outputs": [],
   "source": []
  },
  {
   "cell_type": "code",
   "execution_count": null,
   "id": "editorial-france",
   "metadata": {},
   "outputs": [],
   "source": [
    "lgb=LGBMClassifier()\n",
    "lgb.fit(x_train, y1d)\n",
    "y_test=pd.DataFrame(lgb.predict(x_test))\n",
    "fin=pd.concat([test['customer_id'], y_test], axis=1)\n",
    "fin.columns=['customer_id', 'churn_risk_score']\n",
    "fin.to_csv('lgb.csv', index=False)\n",
    "# 76.05823"
   ]
  },
  {
   "cell_type": "code",
   "execution_count": null,
   "id": "handled-liechtenstein",
   "metadata": {},
   "outputs": [],
   "source": [
    "lgb=LGBMClassifier()\n",
    "lgb.fit(x_train, yabs)\n",
    "y_test=pd.DataFrame(lgb.predict(x_test))\n",
    "fin=pd.concat([test['customer_id'], y_test], axis=1)\n",
    "fin.columns=['customer_id', 'churn_risk_score']\n",
    "fin.to_csv('lgb.csv', index=False)\n",
    "# 76.05823"
   ]
  },
  {
   "cell_type": "code",
   "execution_count": null,
   "id": "ultimate-surgery",
   "metadata": {},
   "outputs": [],
   "source": []
  },
  {
   "cell_type": "markdown",
   "id": "numerous-coach",
   "metadata": {},
   "source": [
    "# VC"
   ]
  },
  {
   "cell_type": "code",
   "execution_count": null,
   "id": "authentic-thread",
   "metadata": {},
   "outputs": [],
   "source": [
    "# max_depth=20, max_features=15, min_samples_split=5, n_estimators=100 76.56 rf\n",
    "# gamma=1, learning_rate=0.2, max_depth=6, min_child_weight=5, reg_lambda=1, sampling_method='uniform' 76.50 xg\n",
    "# learning_rate=0.1, n_estimators=300, min_samples_split=2, min_samples_leaf=1, max_depth=3 76.61 gb\n",
    "# learning_rate=0.1, logging_level='Silent', iterations=1500, l2_leaf_reg=3.0, depth=16, grow_policy=\"Lossguide\" 76.51 cat\n"
   ]
  },
  {
   "cell_type": "code",
   "execution_count": 34,
   "id": "severe-berkeley",
   "metadata": {},
   "outputs": [],
   "source": [
    "estimators=[('RF', RandomForestClassifier()), ('XGB', XGBClassifier()), ('LGB', LGBMClassifier()), ('GBR', GradientBoostingClassifier()), ('CAT', CatBoostClassifier(logging_level='Silent'))]\n",
    "vc=VotingClassifier(estimators=estimators)\n",
    "vc.fit(x_train, y1d)\n",
    "y_test=pd.DataFrame(vc.predict(x_test))\n",
    "fin=pd.concat([test['customer_id'], y_test], axis=1)\n",
    "fin.columns=['customer_id', 'churn_risk_score']\n",
    "fin.to_csv('vc.csv', index=False)\n",
    "# 76.33831"
   ]
  },
  {
   "cell_type": "code",
   "execution_count": 35,
   "id": "satisfactory-subject",
   "metadata": {},
   "outputs": [],
   "source": [
    "estimators=[('XGB', XGBClassifier()), ('LGB', LGBMClassifier()), ('GBR', GradientBoostingClassifier())]\n",
    "vc=VotingClassifier(estimators=estimators)\n",
    "vc.fit(x_train, y1d)\n",
    "y_test=pd.DataFrame(vc.predict(x_test))\n",
    "fin=pd.concat([test['customer_id'], y_test], axis=1)\n",
    "fin.columns=['customer_id', 'churn_risk_score']\n",
    "fin.to_csv('vc1.csv', index=False)\n",
    "# 76.37648"
   ]
  },
  {
   "cell_type": "code",
   "execution_count": 36,
   "id": "modified-declaration",
   "metadata": {},
   "outputs": [],
   "source": [
    "estimators=[('XGB', XGBClassifier()), ('LGB', LGBMClassifier()), ('GBR', GradientBoostingClassifier()), ('CAT', CatBoostClassifier(logging_level='Silent'))]\n",
    "vc=VotingClassifier(estimators=estimators)\n",
    "vc.fit(x_train, y1d)\n",
    "y_test=pd.DataFrame(vc.predict(x_test))\n",
    "fin=pd.concat([test['customer_id'], y_test], axis=1)\n",
    "fin.columns=['customer_id', 'churn_risk_score']\n",
    "fin.to_csv('vc2.csv', index=False)\n",
    "# 76.38160"
   ]
  },
  {
   "cell_type": "code",
   "execution_count": 37,
   "id": "surgical-cover",
   "metadata": {},
   "outputs": [],
   "source": [
    "estimators=[('RF', RandomForestClassifier(max_depth=20, max_features=15, min_samples_split=5, n_estimators=100)), \n",
    "            ('XGB', XGBClassifier(gamma=1, learning_rate=0.2, max_depth=6, min_child_weight=5, reg_lambda=1, sampling_method='uniform')), \n",
    "            ('LGB', LGBMClassifier()), \n",
    "            ('GBR', GradientBoostingClassifier(learning_rate=0.1, n_estimators=300, min_samples_split=2, min_samples_leaf=1, max_depth=3)), \n",
    "            ('CAT', CatBoostClassifier(learning_rate=0.1, logging_level='Silent', iterations=1500, l2_leaf_reg=3.0, depth=16, grow_policy=\"Lossguide\"))]\n",
    "vc=VotingClassifier(estimators=estimators)\n",
    "vc.fit(x_train, y1d)\n",
    "y_test=pd.DataFrame(vc.predict(x_test))\n",
    "fin=pd.concat([test['customer_id'], y_test], axis=1)\n",
    "fin.columns=['customer_id', 'churn_risk_score']\n",
    "fin.to_csv('vc3.csv', index=False)\n",
    "# 76.35617"
   ]
  },
  {
   "cell_type": "code",
   "execution_count": 38,
   "id": "answering-retro",
   "metadata": {},
   "outputs": [],
   "source": [
    "estimators=[('RF', RandomForestClassifier(max_depth=20, max_features=15, min_samples_split=5, n_estimators=100)), \n",
    "            ('XGB', XGBClassifier(gamma=1, learning_rate=0.2, max_depth=6, min_child_weight=5, reg_lambda=1, sampling_method='uniform')), \n",
    "            ('GBR', GradientBoostingClassifier(learning_rate=0.1, n_estimators=300, min_samples_split=2, min_samples_leaf=1, max_depth=3)), \n",
    "            ('CAT', CatBoostClassifier(learning_rate=0.1, logging_level='Silent', iterations=1500, l2_leaf_reg=3.0, depth=16, grow_policy=\"Lossguide\"))]\n",
    "vc=VotingClassifier(estimators=estimators)\n",
    "vc.fit(x_train, y1d)\n",
    "y_test=pd.DataFrame(vc.predict(x_test))\n",
    "fin=pd.concat([test['customer_id'], y_test], axis=1)\n",
    "fin.columns=['customer_id', 'churn_risk_score']\n",
    "fin.to_csv('vc4.csv', index=False)\n",
    "# 76.45142"
   ]
  },
  {
   "cell_type": "code",
   "execution_count": 39,
   "id": "regulated-mozambique",
   "metadata": {},
   "outputs": [],
   "source": [
    "estimators=[('RF', RandomForestClassifier(max_depth=20, max_features=15, min_samples_split=5, n_estimators=100)), \n",
    "            ('GBR', GradientBoostingClassifier(learning_rate=0.1, n_estimators=300, min_samples_split=2, min_samples_leaf=1, max_depth=3)), \n",
    "            ('CAT', CatBoostClassifier(learning_rate=0.1, logging_level='Silent', iterations=1500, l2_leaf_reg=3.0, depth=16, grow_policy=\"Lossguide\"))]\n",
    "vc=VotingClassifier(estimators=estimators)\n",
    "vc.fit(x_train, y1d)\n",
    "y_test=pd.DataFrame(vc.predict(x_test))\n",
    "fin=pd.concat([test['customer_id'], y_test], axis=1)\n",
    "fin.columns=['customer_id', 'churn_risk_score']\n",
    "fin.to_csv('vc5.csv', index=False)\n",
    "# 76.45855"
   ]
  },
  {
   "cell_type": "code",
   "execution_count": 40,
   "id": "packed-fifty",
   "metadata": {},
   "outputs": [],
   "source": [
    "estimators=[('XGB', XGBClassifier(gamma=1, learning_rate=0.2, max_depth=6, min_child_weight=5, reg_lambda=1, sampling_method='uniform')), \n",
    "            ('GBR', GradientBoostingClassifier(learning_rate=0.1, n_estimators=300, min_samples_split=2, min_samples_leaf=1, max_depth=3)), \n",
    "            ('CAT', CatBoostClassifier(learning_rate=0.1, logging_level='Silent', iterations=1500, l2_leaf_reg=3.0, depth=16, grow_policy=\"Lossguide\"))]\n",
    "vc=VotingClassifier(estimators=estimators)\n",
    "vc.fit(x_train, y1d)\n",
    "y_test=pd.DataFrame(vc.predict(x_test))\n",
    "fin=pd.concat([test['customer_id'], y_test], axis=1)\n",
    "fin.columns=['customer_id', 'churn_risk_score']\n",
    "fin.to_csv('vc6.csv', index=False)\n",
    "# 76.41566"
   ]
  },
  {
   "cell_type": "code",
   "execution_count": null,
   "id": "promotional-characterization",
   "metadata": {},
   "outputs": [],
   "source": []
  },
  {
   "cell_type": "markdown",
   "id": "upper-railway",
   "metadata": {},
   "source": [
    "# ST"
   ]
  },
  {
   "cell_type": "code",
   "execution_count": null,
   "id": "trained-dialogue",
   "metadata": {},
   "outputs": [],
   "source": [
    "# max_depth=20, max_features=15, min_samples_split=5, n_estimators=100 76.56 rf\n",
    "# gamma=1, learning_rate=0.2, max_depth=6, min_child_weight=5, reg_lambda=1, sampling_method='uniform' 76.50 xg\n",
    "# learning_rate=0.1, n_estimators=300, min_samples_split=2, min_samples_leaf=1, max_depth=3 76.61 gb\n",
    "# learning_rate=0.1, logging_level='Silent', iterations=1500, l2_leaf_reg=3.0, depth=16, grow_policy=\"Lossguide\" 76.51 cat\n"
   ]
  },
  {
   "cell_type": "code",
   "execution_count": 43,
   "id": "underlying-restaurant",
   "metadata": {},
   "outputs": [
    {
     "name": "stderr",
     "output_type": "stream",
     "text": [
      "C:\\Users\\Akshat\\Anaconda3\\lib\\site-packages\\sklearn\\preprocessing\\_label.py:289: DataConversionWarning: A column-vector y was passed when a 1d array was expected. Please change the shape of y to (n_samples, ), for example using ravel().\n",
      "  y = column_or_1d(y, warn=True)\n"
     ]
    }
   ],
   "source": [
    "estimators=[('XGB', XGBClassifier()), ('LGB', LGBMClassifier()), ('GBR', GradientBoostingClassifier()), ('CAT', CatBoostClassifier(logging_level='Silent'))]\n",
    "st=StackingClassifier(estimators=estimators, final_estimator=CatBoostClassifier(logging_level='Silent'))\n",
    "st.fit(x_train, y1d)\n",
    "y_test=pd.DataFrame(st.predict(x_test))\n",
    "fin=pd.concat([test['customer_id'], y_test], axis=1)\n",
    "fin.columns=['customer_id', 'churn_risk_score']\n",
    "fin.to_csv('st.csv', index=False)\n",
    "# 76.22705"
   ]
  },
  {
   "cell_type": "code",
   "execution_count": 44,
   "id": "happy-identification",
   "metadata": {},
   "outputs": [
    {
     "name": "stderr",
     "output_type": "stream",
     "text": [
      "C:\\Users\\Akshat\\Anaconda3\\lib\\site-packages\\sklearn\\preprocessing\\_label.py:289: DataConversionWarning: A column-vector y was passed when a 1d array was expected. Please change the shape of y to (n_samples, ), for example using ravel().\n",
      "  y = column_or_1d(y, warn=True)\n"
     ]
    }
   ],
   "source": [
    "estimators=[('XGB', XGBClassifier(gamma=1, learning_rate=0.2, max_depth=6, min_child_weight=5, reg_lambda=1, sampling_method='uniform')), \n",
    "            ('LGB', LGBMClassifier()), \n",
    "            ('GBR', GradientBoostingClassifier(learning_rate=0.1, n_estimators=300, min_samples_split=2, min_samples_leaf=1, max_depth=3)), \n",
    "            ('CAT', CatBoostClassifier(learning_rate=0.1, logging_level='Silent', iterations=1500, l2_leaf_reg=3.0, depth=16, grow_policy=\"Lossguide\"))]\n",
    "st=StackingClassifier(estimators=estimators, final_estimator=CatBoostClassifier(logging_level='Silent'))\n",
    "st.fit(x_train, y1d)\n",
    "y_test=pd.DataFrame(st.predict(x_test))\n",
    "fin=pd.concat([test['customer_id'], y_test], axis=1)\n",
    "fin.columns=['customer_id', 'churn_risk_score']\n",
    "fin.to_csv('st1.csv', index=False)\n",
    "# 75.71718"
   ]
  },
  {
   "cell_type": "code",
   "execution_count": 45,
   "id": "bottom-count",
   "metadata": {},
   "outputs": [
    {
     "name": "stderr",
     "output_type": "stream",
     "text": [
      "C:\\Users\\Akshat\\Anaconda3\\lib\\site-packages\\sklearn\\preprocessing\\_label.py:289: DataConversionWarning: A column-vector y was passed when a 1d array was expected. Please change the shape of y to (n_samples, ), for example using ravel().\n",
      "  y = column_or_1d(y, warn=True)\n"
     ]
    }
   ],
   "source": [
    "estimators=[('XGB', XGBClassifier(gamma=1, learning_rate=0.2, max_depth=6, min_child_weight=5, reg_lambda=1, sampling_method='uniform')), \n",
    "            ('LGB', LGBMClassifier()), \n",
    "            ('GBR', GradientBoostingClassifier(learning_rate=0.1, n_estimators=300, min_samples_split=2, min_samples_leaf=1, max_depth=3)), \n",
    "            ('CAT', CatBoostClassifier(learning_rate=0.1, logging_level='Silent', iterations=1500, l2_leaf_reg=3.0, depth=16, grow_policy=\"Lossguide\"))]\n",
    "st=StackingClassifier(estimators=estimators, final_estimator=CatBoostClassifier(learning_rate=0.1, logging_level='Silent', iterations=1500, l2_leaf_reg=3.0, depth=16, grow_policy=\"Lossguide\"))\n",
    "st.fit(x_train, y1d)\n",
    "y_test=pd.DataFrame(st.predict(x_test))\n",
    "fin=pd.concat([test['customer_id'], y_test], axis=1)\n",
    "fin.columns=['customer_id', 'churn_risk_score']\n",
    "fin.to_csv('st2.csv', index=False)\n",
    "# 75.66086"
   ]
  },
  {
   "cell_type": "code",
   "execution_count": 46,
   "id": "increasing-geometry",
   "metadata": {},
   "outputs": [
    {
     "name": "stderr",
     "output_type": "stream",
     "text": [
      "C:\\Users\\Akshat\\Anaconda3\\lib\\site-packages\\sklearn\\preprocessing\\_label.py:289: DataConversionWarning: A column-vector y was passed when a 1d array was expected. Please change the shape of y to (n_samples, ), for example using ravel().\n",
      "  y = column_or_1d(y, warn=True)\n"
     ]
    }
   ],
   "source": [
    "estimators=[('XGB', XGBClassifier(gamma=1, learning_rate=0.2, max_depth=6, min_child_weight=5, reg_lambda=1, sampling_method='uniform')),  \n",
    "            ('GBR', GradientBoostingClassifier(learning_rate=0.1, n_estimators=300, min_samples_split=2, min_samples_leaf=1, max_depth=3)), \n",
    "            ('CAT', CatBoostClassifier(learning_rate=0.1, logging_level='Silent', iterations=1500, l2_leaf_reg=3.0, depth=16, grow_policy=\"Lossguide\"))]\n",
    "st=StackingClassifier(estimators=estimators, final_estimator=CatBoostClassifier(learning_rate=0.1, logging_level='Silent', iterations=1500, l2_leaf_reg=3.0, depth=16, grow_policy=\"Lossguide\"))\n",
    "st.fit(x_train, y1d)\n",
    "y_test=pd.DataFrame(st.predict(x_test))\n",
    "fin=pd.concat([test['customer_id'], y_test], axis=1)\n",
    "fin.columns=['customer_id', 'churn_risk_score']\n",
    "fin.to_csv('st3.csv', index=False)\n",
    "# 75.79892"
   ]
  },
  {
   "cell_type": "code",
   "execution_count": 47,
   "id": "engaged-monday",
   "metadata": {},
   "outputs": [
    {
     "name": "stderr",
     "output_type": "stream",
     "text": [
      "C:\\Users\\Akshat\\Anaconda3\\lib\\site-packages\\sklearn\\preprocessing\\_label.py:289: DataConversionWarning: A column-vector y was passed when a 1d array was expected. Please change the shape of y to (n_samples, ), for example using ravel().\n",
      "  y = column_or_1d(y, warn=True)\n"
     ]
    }
   ],
   "source": [
    "estimators=[('RF', RandomForestClassifier(max_depth=20, max_features=15, min_samples_split=5, n_estimators=100)),\n",
    "            ('XGB', XGBClassifier(gamma=1, learning_rate=0.2, max_depth=6, min_child_weight=5, reg_lambda=1, sampling_method='uniform')), \n",
    "            ('LGB', LGBMClassifier()), \n",
    "            ('GBR', GradientBoostingClassifier(learning_rate=0.1, n_estimators=300, min_samples_split=2, min_samples_leaf=1, max_depth=3)), \n",
    "            ('CAT', CatBoostClassifier(learning_rate=0.1, logging_level='Silent', iterations=1500, l2_leaf_reg=3.0, depth=16, grow_policy=\"Lossguide\"))]\n",
    "st=StackingClassifier(estimators=estimators, final_estimator=CatBoostClassifier(learning_rate=0.1, logging_level='Silent', iterations=1500, l2_leaf_reg=3.0, depth=16, grow_policy=\"Lossguide\"))\n",
    "st.fit(x_train, y1d)\n",
    "y_test=pd.DataFrame(st.predict(x_test))\n",
    "fin=pd.concat([test['customer_id'], y_test], axis=1)\n",
    "fin.columns=['customer_id', 'churn_risk_score']\n",
    "fin.to_csv('st4.csv', index=False)\n",
    "# 76.69668"
   ]
  },
  {
   "cell_type": "code",
   "execution_count": 48,
   "id": "irish-credit",
   "metadata": {},
   "outputs": [
    {
     "name": "stderr",
     "output_type": "stream",
     "text": [
      "C:\\Users\\Akshat\\Anaconda3\\lib\\site-packages\\sklearn\\preprocessing\\_label.py:289: DataConversionWarning: A column-vector y was passed when a 1d array was expected. Please change the shape of y to (n_samples, ), for example using ravel().\n",
      "  y = column_or_1d(y, warn=True)\n"
     ]
    }
   ],
   "source": [
    "estimators=[('RF', RandomForestClassifier(max_depth=20, max_features=15, min_samples_split=5, n_estimators=100)),\n",
    "            ('XGB', XGBClassifier(gamma=1, learning_rate=0.2, max_depth=6, min_child_weight=5, reg_lambda=1, sampling_method='uniform')), \n",
    "            ('LGB', LGBMClassifier()), \n",
    "            ('GBR', GradientBoostingClassifier(learning_rate=0.1, n_estimators=300, min_samples_split=2, min_samples_leaf=1, max_depth=3)), \n",
    "            ('CAT', CatBoostClassifier(learning_rate=0.1, logging_level='Silent', iterations=1500, l2_leaf_reg=3.0, depth=16, grow_policy=\"Lossguide\"))]\n",
    "st=StackingClassifier(estimators=estimators, final_estimator=CatBoostClassifier(logging_level='Silent'))\n",
    "st.fit(x_train, y1d)\n",
    "y_test=pd.DataFrame(st.predict(x_test))\n",
    "fin=pd.concat([test['customer_id'], y_test], axis=1)\n",
    "fin.columns=['customer_id', 'churn_risk_score']\n",
    "fin.to_csv('st5.csv', index=False)\n",
    "# 75.52253"
   ]
  },
  {
   "cell_type": "code",
   "execution_count": 49,
   "id": "tight-burns",
   "metadata": {},
   "outputs": [
    {
     "name": "stderr",
     "output_type": "stream",
     "text": [
      "C:\\Users\\Akshat\\Anaconda3\\lib\\site-packages\\sklearn\\preprocessing\\_label.py:289: DataConversionWarning: A column-vector y was passed when a 1d array was expected. Please change the shape of y to (n_samples, ), for example using ravel().\n",
      "  y = column_or_1d(y, warn=True)\n"
     ]
    }
   ],
   "source": [
    "estimators=[('XGB', XGBClassifier(gamma=1, learning_rate=0.2, max_depth=6, min_child_weight=5, reg_lambda=1, sampling_method='uniform')), \n",
    "            ('LGB', LGBMClassifier()), \n",
    "            ('GBR', GradientBoostingClassifier(learning_rate=0.1, n_estimators=300, min_samples_split=2, min_samples_leaf=1, max_depth=3)), \n",
    "            ('CAT', CatBoostClassifier(learning_rate=0.1, logging_level='Silent', iterations=1500, l2_leaf_reg=3.0, depth=16, grow_policy=\"Lossguide\"))]\n",
    "st=StackingClassifier(estimators=estimators, final_estimator=CatBoostClassifier(learning_rate=0.1, logging_level='Silent', iterations=1500, l2_leaf_reg=3.0, depth=16, grow_policy=\"Lossguide\"))\n",
    "st.fit(x_train, y1d)\n",
    "y_test=pd.DataFrame(st.predict(x_test))\n",
    "fin=pd.concat([test['customer_id'], y_test], axis=1)\n",
    "fin.columns=['customer_id', 'churn_risk_score']\n",
    "fin.to_csv('st2.csv', index=False)\n",
    "# 75.66086"
   ]
  },
  {
   "cell_type": "code",
   "execution_count": null,
   "id": "genetic-bench",
   "metadata": {},
   "outputs": [],
   "source": []
  },
  {
   "cell_type": "code",
   "execution_count": null,
   "id": "neural-shift",
   "metadata": {},
   "outputs": [],
   "source": []
  }
 ],
 "metadata": {
  "kernelspec": {
   "display_name": "Python 3",
   "language": "python",
   "name": "python3"
  },
  "language_info": {
   "codemirror_mode": {
    "name": "ipython",
    "version": 3
   },
   "file_extension": ".py",
   "mimetype": "text/x-python",
   "name": "python",
   "nbconvert_exporter": "python",
   "pygments_lexer": "ipython3",
   "version": "3.7.3"
  }
 },
 "nbformat": 4,
 "nbformat_minor": 5
}
