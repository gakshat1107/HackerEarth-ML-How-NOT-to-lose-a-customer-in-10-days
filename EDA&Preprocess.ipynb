{
 "cells": [
  {
   "cell_type": "code",
   "execution_count": 1,
   "id": "incoming-deficit",
   "metadata": {},
   "outputs": [],
   "source": [
    "import numpy as np\n",
    "import pandas as pd\n",
    "import scipy.stats as stats\n",
    "import statsmodels.api as sm\n",
    "import matplotlib.pyplot as plt\n",
    "from scipy.stats import skew, norm\n",
    "import seaborn as sns\n",
    "%matplotlib inline"
   ]
  },
  {
   "cell_type": "code",
   "execution_count": 115,
   "id": "former-louisville",
   "metadata": {},
   "outputs": [],
   "source": [
    "train=pd.read_csv('dataset/train.csv')\n",
    "test=pd.read_csv('dataset/test.csv')"
   ]
  },
  {
   "cell_type": "markdown",
   "id": "chicken-longer",
   "metadata": {},
   "source": [
    "# EDA"
   ]
  },
  {
   "cell_type": "code",
   "execution_count": 116,
   "id": "personalized-tennessee",
   "metadata": {},
   "outputs": [
    {
     "data": {
      "text/plain": [
       "((36992, 25), (19919, 24))"
      ]
     },
     "execution_count": 116,
     "metadata": {},
     "output_type": "execute_result"
    }
   ],
   "source": [
    "train.shape, test.shape"
   ]
  },
  {
   "cell_type": "code",
   "execution_count": 117,
   "id": "macro-yahoo",
   "metadata": {},
   "outputs": [
    {
     "data": {
      "text/html": [
       "<div>\n",
       "<style scoped>\n",
       "    .dataframe tbody tr th:only-of-type {\n",
       "        vertical-align: middle;\n",
       "    }\n",
       "\n",
       "    .dataframe tbody tr th {\n",
       "        vertical-align: top;\n",
       "    }\n",
       "\n",
       "    .dataframe thead th {\n",
       "        text-align: right;\n",
       "    }\n",
       "</style>\n",
       "<table border=\"1\" class=\"dataframe\">\n",
       "  <thead>\n",
       "    <tr style=\"text-align: right;\">\n",
       "      <th></th>\n",
       "      <th>customer_id</th>\n",
       "      <th>Name</th>\n",
       "      <th>age</th>\n",
       "      <th>gender</th>\n",
       "      <th>security_no</th>\n",
       "      <th>region_category</th>\n",
       "      <th>membership_category</th>\n",
       "      <th>joining_date</th>\n",
       "      <th>joined_through_referral</th>\n",
       "      <th>referral_id</th>\n",
       "      <th>...</th>\n",
       "      <th>avg_time_spent</th>\n",
       "      <th>avg_transaction_value</th>\n",
       "      <th>avg_frequency_login_days</th>\n",
       "      <th>points_in_wallet</th>\n",
       "      <th>used_special_discount</th>\n",
       "      <th>offer_application_preference</th>\n",
       "      <th>past_complaint</th>\n",
       "      <th>complaint_status</th>\n",
       "      <th>feedback</th>\n",
       "      <th>churn_risk_score</th>\n",
       "    </tr>\n",
       "  </thead>\n",
       "  <tbody>\n",
       "    <tr>\n",
       "      <th>0</th>\n",
       "      <td>fffe4300490044003600300030003800</td>\n",
       "      <td>Pattie Morrisey</td>\n",
       "      <td>18</td>\n",
       "      <td>F</td>\n",
       "      <td>XW0DQ7H</td>\n",
       "      <td>Village</td>\n",
       "      <td>Platinum Membership</td>\n",
       "      <td>2017-08-17</td>\n",
       "      <td>No</td>\n",
       "      <td>xxxxxxxx</td>\n",
       "      <td>...</td>\n",
       "      <td>300.63</td>\n",
       "      <td>53005.25</td>\n",
       "      <td>17.0</td>\n",
       "      <td>781.75</td>\n",
       "      <td>Yes</td>\n",
       "      <td>Yes</td>\n",
       "      <td>No</td>\n",
       "      <td>Not Applicable</td>\n",
       "      <td>Products always in Stock</td>\n",
       "      <td>2</td>\n",
       "    </tr>\n",
       "    <tr>\n",
       "      <th>1</th>\n",
       "      <td>fffe43004900440032003100300035003700</td>\n",
       "      <td>Traci Peery</td>\n",
       "      <td>32</td>\n",
       "      <td>F</td>\n",
       "      <td>5K0N3X1</td>\n",
       "      <td>City</td>\n",
       "      <td>Premium Membership</td>\n",
       "      <td>2017-08-28</td>\n",
       "      <td>?</td>\n",
       "      <td>CID21329</td>\n",
       "      <td>...</td>\n",
       "      <td>306.34</td>\n",
       "      <td>12838.38</td>\n",
       "      <td>10.0</td>\n",
       "      <td>NaN</td>\n",
       "      <td>Yes</td>\n",
       "      <td>No</td>\n",
       "      <td>Yes</td>\n",
       "      <td>Solved</td>\n",
       "      <td>Quality Customer Care</td>\n",
       "      <td>1</td>\n",
       "    </tr>\n",
       "    <tr>\n",
       "      <th>2</th>\n",
       "      <td>fffe4300490044003100390032003600</td>\n",
       "      <td>Merideth Mcmeen</td>\n",
       "      <td>44</td>\n",
       "      <td>F</td>\n",
       "      <td>1F2TCL3</td>\n",
       "      <td>Town</td>\n",
       "      <td>No Membership</td>\n",
       "      <td>2016-11-11</td>\n",
       "      <td>Yes</td>\n",
       "      <td>CID12313</td>\n",
       "      <td>...</td>\n",
       "      <td>516.16</td>\n",
       "      <td>21027.00</td>\n",
       "      <td>22.0</td>\n",
       "      <td>500.69</td>\n",
       "      <td>No</td>\n",
       "      <td>Yes</td>\n",
       "      <td>Yes</td>\n",
       "      <td>Solved in Follow-up</td>\n",
       "      <td>Poor Website</td>\n",
       "      <td>5</td>\n",
       "    </tr>\n",
       "    <tr>\n",
       "      <th>3</th>\n",
       "      <td>fffe43004900440036003000330031003600</td>\n",
       "      <td>Eufemia Cardwell</td>\n",
       "      <td>37</td>\n",
       "      <td>M</td>\n",
       "      <td>VJGJ33N</td>\n",
       "      <td>City</td>\n",
       "      <td>No Membership</td>\n",
       "      <td>2016-10-29</td>\n",
       "      <td>Yes</td>\n",
       "      <td>CID3793</td>\n",
       "      <td>...</td>\n",
       "      <td>53.27</td>\n",
       "      <td>25239.56</td>\n",
       "      <td>6.0</td>\n",
       "      <td>567.66</td>\n",
       "      <td>No</td>\n",
       "      <td>Yes</td>\n",
       "      <td>Yes</td>\n",
       "      <td>Unsolved</td>\n",
       "      <td>Poor Website</td>\n",
       "      <td>5</td>\n",
       "    </tr>\n",
       "    <tr>\n",
       "      <th>4</th>\n",
       "      <td>fffe43004900440031003900350030003600</td>\n",
       "      <td>Meghan Kosak</td>\n",
       "      <td>31</td>\n",
       "      <td>F</td>\n",
       "      <td>SVZXCWB</td>\n",
       "      <td>City</td>\n",
       "      <td>No Membership</td>\n",
       "      <td>2017-09-12</td>\n",
       "      <td>No</td>\n",
       "      <td>xxxxxxxx</td>\n",
       "      <td>...</td>\n",
       "      <td>113.13</td>\n",
       "      <td>24483.66</td>\n",
       "      <td>16.0</td>\n",
       "      <td>663.06</td>\n",
       "      <td>No</td>\n",
       "      <td>Yes</td>\n",
       "      <td>Yes</td>\n",
       "      <td>Solved</td>\n",
       "      <td>Poor Website</td>\n",
       "      <td>5</td>\n",
       "    </tr>\n",
       "  </tbody>\n",
       "</table>\n",
       "<p>5 rows × 25 columns</p>\n",
       "</div>"
      ],
      "text/plain": [
       "                            customer_id              Name  age gender  \\\n",
       "0      fffe4300490044003600300030003800   Pattie Morrisey   18      F   \n",
       "1  fffe43004900440032003100300035003700       Traci Peery   32      F   \n",
       "2      fffe4300490044003100390032003600   Merideth Mcmeen   44      F   \n",
       "3  fffe43004900440036003000330031003600  Eufemia Cardwell   37      M   \n",
       "4  fffe43004900440031003900350030003600      Meghan Kosak   31      F   \n",
       "\n",
       "  security_no region_category  membership_category joining_date  \\\n",
       "0     XW0DQ7H         Village  Platinum Membership   2017-08-17   \n",
       "1     5K0N3X1            City   Premium Membership   2017-08-28   \n",
       "2     1F2TCL3            Town        No Membership   2016-11-11   \n",
       "3     VJGJ33N            City        No Membership   2016-10-29   \n",
       "4     SVZXCWB            City        No Membership   2017-09-12   \n",
       "\n",
       "  joined_through_referral referral_id  ... avg_time_spent  \\\n",
       "0                      No    xxxxxxxx  ...         300.63   \n",
       "1                       ?    CID21329  ...         306.34   \n",
       "2                     Yes    CID12313  ...         516.16   \n",
       "3                     Yes     CID3793  ...          53.27   \n",
       "4                      No    xxxxxxxx  ...         113.13   \n",
       "\n",
       "  avg_transaction_value avg_frequency_login_days points_in_wallet  \\\n",
       "0              53005.25                     17.0           781.75   \n",
       "1              12838.38                     10.0              NaN   \n",
       "2              21027.00                     22.0           500.69   \n",
       "3              25239.56                      6.0           567.66   \n",
       "4              24483.66                     16.0           663.06   \n",
       "\n",
       "   used_special_discount  offer_application_preference  past_complaint  \\\n",
       "0                    Yes                           Yes              No   \n",
       "1                    Yes                            No             Yes   \n",
       "2                     No                           Yes             Yes   \n",
       "3                     No                           Yes             Yes   \n",
       "4                     No                           Yes             Yes   \n",
       "\n",
       "      complaint_status                  feedback churn_risk_score  \n",
       "0       Not Applicable  Products always in Stock                2  \n",
       "1               Solved     Quality Customer Care                1  \n",
       "2  Solved in Follow-up              Poor Website                5  \n",
       "3             Unsolved              Poor Website                5  \n",
       "4               Solved              Poor Website                5  \n",
       "\n",
       "[5 rows x 25 columns]"
      ]
     },
     "execution_count": 117,
     "metadata": {},
     "output_type": "execute_result"
    }
   ],
   "source": [
    "#printing first 5 rows\n",
    "train.head()"
   ]
  },
  {
   "cell_type": "code",
   "execution_count": 118,
   "id": "fitting-secondary",
   "metadata": {},
   "outputs": [
    {
     "name": "stdout",
     "output_type": "stream",
     "text": [
      "<class 'pandas.core.frame.DataFrame'>\n",
      "RangeIndex: 36992 entries, 0 to 36991\n",
      "Data columns (total 25 columns):\n",
      " #   Column                        Non-Null Count  Dtype  \n",
      "---  ------                        --------------  -----  \n",
      " 0   customer_id                   36992 non-null  object \n",
      " 1   Name                          36992 non-null  object \n",
      " 2   age                           36992 non-null  int64  \n",
      " 3   gender                        36992 non-null  object \n",
      " 4   security_no                   36992 non-null  object \n",
      " 5   region_category               31564 non-null  object \n",
      " 6   membership_category           36992 non-null  object \n",
      " 7   joining_date                  36992 non-null  object \n",
      " 8   joined_through_referral       36992 non-null  object \n",
      " 9   referral_id                   36992 non-null  object \n",
      " 10  preferred_offer_types         36704 non-null  object \n",
      " 11  medium_of_operation           36992 non-null  object \n",
      " 12  internet_option               36992 non-null  object \n",
      " 13  last_visit_time               36992 non-null  object \n",
      " 14  days_since_last_login         36992 non-null  int64  \n",
      " 15  avg_time_spent                36992 non-null  float64\n",
      " 16  avg_transaction_value         36992 non-null  float64\n",
      " 17  avg_frequency_login_days      36992 non-null  object \n",
      " 18  points_in_wallet              33549 non-null  float64\n",
      " 19  used_special_discount         36992 non-null  object \n",
      " 20  offer_application_preference  36992 non-null  object \n",
      " 21  past_complaint                36992 non-null  object \n",
      " 22  complaint_status              36992 non-null  object \n",
      " 23  feedback                      36992 non-null  object \n",
      " 24  churn_risk_score              36992 non-null  int64  \n",
      "dtypes: float64(3), int64(3), object(19)\n",
      "memory usage: 7.1+ MB\n"
     ]
    }
   ],
   "source": [
    "#checking type and null values in each column\n",
    "train.info()"
   ]
  },
  {
   "cell_type": "code",
   "execution_count": 119,
   "id": "specific-forestry",
   "metadata": {},
   "outputs": [
    {
     "data": {
      "text/plain": [
       "customer_id                      True\n",
       "Name                             True\n",
       "age                             False\n",
       "gender                           True\n",
       "security_no                      True\n",
       "region_category                  True\n",
       "membership_category              True\n",
       "joining_date                     True\n",
       "joined_through_referral          True\n",
       "referral_id                      True\n",
       "preferred_offer_types            True\n",
       "medium_of_operation              True\n",
       "internet_option                  True\n",
       "last_visit_time                  True\n",
       "days_since_last_login           False\n",
       "avg_time_spent                  False\n",
       "avg_transaction_value           False\n",
       "avg_frequency_login_days         True\n",
       "points_in_wallet                False\n",
       "used_special_discount            True\n",
       "offer_application_preference     True\n",
       "past_complaint                   True\n",
       "complaint_status                 True\n",
       "feedback                         True\n",
       "churn_risk_score                False\n",
       "dtype: bool"
      ]
     },
     "execution_count": 119,
     "metadata": {},
     "output_type": "execute_result"
    }
   ],
   "source": [
    "#getting object type columns\n",
    "train.dtypes==object"
   ]
  },
  {
   "cell_type": "markdown",
   "id": "reasonable-commercial",
   "metadata": {},
   "source": [
    "We have 6 number type columns and 19 object type"
   ]
  },
  {
   "cell_type": "code",
   "execution_count": 120,
   "id": "solar-yield",
   "metadata": {},
   "outputs": [
    {
     "data": {
      "text/plain": [
       "Index(['customer_id', 'Name', 'age', 'gender', 'security_no',\n",
       "       'region_category', 'membership_category', 'joining_date',\n",
       "       'joined_through_referral', 'referral_id', 'preferred_offer_types',\n",
       "       'medium_of_operation', 'internet_option', 'last_visit_time',\n",
       "       'days_since_last_login', 'avg_time_spent', 'avg_transaction_value',\n",
       "       'avg_frequency_login_days', 'points_in_wallet', 'used_special_discount',\n",
       "       'offer_application_preference', 'past_complaint', 'complaint_status',\n",
       "       'feedback', 'churn_risk_score'],\n",
       "      dtype='object')"
      ]
     },
     "execution_count": 120,
     "metadata": {},
     "output_type": "execute_result"
    }
   ],
   "source": [
    "train.columns"
   ]
  },
  {
   "cell_type": "code",
   "execution_count": 121,
   "id": "national-connectivity",
   "metadata": {},
   "outputs": [
    {
     "data": {
      "image/png": "[encoded data removed]",
      "text/plain": [
       "<Figure size 1440x864 with 6 Axes>"
      ]
     },
     "metadata": {
      "needs_background": "light"
     },
     "output_type": "display_data"
    }
   ],
   "source": [
    "#visualization of distribution of values and normalized values\n",
    "fig, ax=plt.subplots(2,3, figsize=(20,12))\n",
    "r=0\n",
    "c=0\n",
    "for i in train.columns:\n",
    "    if train[i].dtype==float or train[i].dtype==np.int64:\n",
    "        \n",
    "        sns.distplot(train[i], kde=True, hist=True, fit=norm, ax=ax[r, c])\n",
    "        c+=1\n",
    "        if c==3:\n",
    "            r=1\n",
    "            c=0"
   ]
  },
  {
   "cell_type": "code",
   "execution_count": 122,
   "id": "wireless-shaft",
   "metadata": {},
   "outputs": [],
   "source": [
    "# #visualization of distribution of values and normalized values\n",
    "# fig, ax=plt.subplots(2,3, figsize=(20,12))\n",
    "# r=0\n",
    "# c=0\n",
    "# for i in train.columns:\n",
    "#     if train[i].dtype==float or train[i].dtype==np.int64:\n",
    "        \n",
    "#         sns.distplot(np.log1p(train[i]), kde=True, hist=True, fit=norm, ax=ax[r, c])\n",
    "#         c+=1\n",
    "#         if c==3:\n",
    "#             r=1\n",
    "#             c=0"
   ]
  },
  {
   "cell_type": "code",
   "execution_count": 123,
   "id": "immune-muslim",
   "metadata": {},
   "outputs": [],
   "source": [
    "# #visualization of distribution of values and normalized values\n",
    "# fig, ax=plt.subplots(2,3, figsize=(20,12))\n",
    "# r=0\n",
    "# c=0\n",
    "# for i in train.columns:\n",
    "#     if train[i].dtype==float or train[i].dtype==np.int64:\n",
    "        \n",
    "#         sns.boxplot(train[i],ax=ax[r, c])\n",
    "#         c+=1\n",
    "#         if c==3:\n",
    "#             r=1\n",
    "#             c=0"
   ]
  },
  {
   "cell_type": "code",
   "execution_count": 124,
   "id": "matched-blake",
   "metadata": {},
   "outputs": [],
   "source": [
    "# #visualization of distribution of values and normalized values\n",
    "# fig, ax=plt.subplots(2,3, figsize=(20,12))\n",
    "# r=0\n",
    "# c=0\n",
    "# for i in train.columns:\n",
    "#     if train[i].dtype==float or train[i].dtype==np.int64:\n",
    "        \n",
    "#         sns.boxplot(np.log1p(train[i]),ax=ax[r, c])\n",
    "#         c+=1\n",
    "#         if c==3:\n",
    "#             r=1\n",
    "#             c=0"
   ]
  },
  {
   "cell_type": "code",
   "execution_count": 125,
   "id": "known-coral",
   "metadata": {},
   "outputs": [
    {
     "data": {
      "image/png": "[encoded data removed]",
      "text/plain": [
       "<Figure size 2160x1800 with 2 Axes>"
      ]
     },
     "metadata": {
      "needs_background": "light"
     },
     "output_type": "display_data"
    }
   ],
   "source": [
    "#Correlation matrix\n",
    "f, ax=plt.subplots(figsize=(30, 25))\n",
    "mat=train.corr('pearson')\n",
    "mask=np.triu(np.ones_like(mat, dtype=bool))\n",
    "cmap=sns.diverging_palette(230, 20, as_cmap=True)\n",
    "sns.heatmap(mat, mask=mask, cmap=cmap, vmax=1, center=0, annot=True, square=True,\n",
    "           linewidth=.5, cbar_kws={\"shrink\":.5})\n",
    "plt.show()"
   ]
  },
  {
   "cell_type": "code",
   "execution_count": 126,
   "id": "every-force",
   "metadata": {},
   "outputs": [],
   "source": [
    "#storing target variable and dropping it from train data\n",
    "y=train['churn_risk_score']\n",
    "train.drop(['churn_risk_score'], axis=1, inplace=True)"
   ]
  },
  {
   "cell_type": "code",
   "execution_count": 127,
   "id": "unlikely-wholesale",
   "metadata": {},
   "outputs": [
    {
     "data": {
      "text/plain": [
       "((36992, 24), (19919, 24), (56911, 24))"
      ]
     },
     "execution_count": 127,
     "metadata": {},
     "output_type": "execute_result"
    }
   ],
   "source": [
    "#combining train and test data\n",
    "combine=pd.concat([train, test], axis=0, sort=False)\n",
    "train.shape, test.shape, combine.shape"
   ]
  },
  {
   "cell_type": "code",
   "execution_count": 128,
   "id": "phantom-brave",
   "metadata": {},
   "outputs": [
    {
     "name": "stdout",
     "output_type": "stream",
     "text": [
      "fffe43004900440032003800300038003200    1\n",
      "fffe43004900440032003100360031003400    1\n",
      "fffe4300490044003100360031003300        1\n",
      "fffe43004900440032003800340030003400    1\n",
      "fffe43004900440035003000370038003900    1\n",
      "                                       ..\n",
      "fffe43004900440033003100330034003700    1\n",
      "fffe43004900440032003800330031003700    1\n",
      "fffe43004900440035003400370034003700    1\n",
      "fffe4300490044003300330036003000        1\n",
      "fffe43004900440033003500310033003800    1\n",
      "Name: customer_id, Length: 56911, dtype: int64\n",
      "['fffe4300490044003600300030003800' 'fffe43004900440032003100300035003700'\n",
      " 'fffe4300490044003100390032003600' ...\n",
      " 'fffe43004900440036003100310036003700'\n",
      " 'fffe43004900440034003200330033003600'\n",
      " 'fffe43004900440036003200340030003100']\n",
      "Tandra Fragale       1\n",
      "Lesli Kuhlmann       1\n",
      "Kym Rakow            1\n",
      "Dian Zerby           1\n",
      "Lesli Youngquist     1\n",
      "                    ..\n",
      "Tona Youngquist      1\n",
      "Jacklyn Cappiello    1\n",
      "Phoebe Hemmings      1\n",
      "Meghan Wind          1\n",
      "Glenda Horney        1\n",
      "Name: Name, Length: 56911, dtype: int64\n",
      "['Pattie Morrisey' 'Traci Peery' 'Merideth Mcmeen' ... 'Loura Huckstep'\n",
      " 'Sharita Clubb' 'Ying Branum']\n",
      "F          28462\n",
      "M          28354\n",
      "Unknown       95\n",
      "Name: gender, dtype: int64\n",
      "['F' 'M' 'Unknown']\n",
      "TSF96X4    1\n",
      "OCTFPWU    1\n",
      "PQQ9BV5    1\n",
      "G4WOQDK    1\n",
      "7UFZ2QF    1\n",
      "          ..\n",
      "8XLA6ZN    1\n",
      "4LJOWMC    1\n",
      "R9YNHUI    1\n",
      "FVTZ9EA    1\n",
      "61PBW9X    1\n",
      "Name: security_no, Length: 56911, dtype: int64\n",
      "['XW0DQ7H' '5K0N3X1' '1F2TCL3' ... 'ADE7LWA' 'A35KUBS' 'IPJKJJV']\n",
      "Town       21763\n",
      "City       19529\n",
      "Village     7243\n",
      "Name: region_category, dtype: int64\n",
      "['Village' 'City' 'Town' nan]\n",
      "No Membership          11815\n",
      "Basic Membership       11808\n",
      "Gold Membership        10545\n",
      "Silver Membership       9187\n",
      "Premium Membership      6820\n",
      "Platinum Membership     6736\n",
      "Name: membership_category, dtype: int64\n",
      "['Platinum Membership' 'Premium Membership' 'No Membership'\n",
      " 'Gold Membership' 'Silver Membership' 'Basic Membership']\n",
      "2015-06-02    80\n",
      "2015-01-05    74\n",
      "2015-06-06    71\n",
      "2017-03-02    71\n",
      "2016-04-08    71\n",
      "              ..\n",
      "2016-03-16    33\n",
      "2017-01-06    33\n",
      "2015-12-14    32\n",
      "2015-06-07    30\n",
      "2017-07-03    30\n",
      "Name: joining_date, Length: 1096, dtype: int64\n",
      "['2017-08-17' '2017-08-28' '2016-11-11' ... '2017-12-11' '2016-09-25'\n",
      " '2017-04-15']\n",
      "Yes    24332\n",
      "No     24143\n",
      "?       8436\n",
      "Name: joined_through_referral, dtype: int64\n",
      "['No' '?' 'Yes']\n",
      "xxxxxxxx    27300\n",
      "CID43705       13\n",
      "CID9129        12\n",
      "CID63748       12\n",
      "CID49598       12\n",
      "            ...  \n",
      "CID14774        1\n",
      "CID59494        1\n",
      "CID27788        1\n",
      "CID62560        1\n",
      "CID6029         1\n",
      "Name: referral_id, Length: 14369, dtype: int64\n",
      "['xxxxxxxx' 'CID21329' 'CID12313' ... 'CID918' 'CID45490' 'CID56352']\n",
      "Credit/Debit Card Offers    18876\n",
      "Gift Vouchers/Coupons       18844\n",
      "Without Offers              18744\n",
      "Name: preferred_offer_types, dtype: int64\n",
      "['Gift Vouchers/Coupons' 'Credit/Debit Card Offers' 'Without Offers' nan]\n",
      "Desktop       21376\n",
      "Smartphone    21281\n",
      "?              8357\n",
      "Both           5897\n",
      "Name: medium_of_operation, dtype: int64\n",
      "['?' 'Desktop' 'Smartphone' 'Both']\n",
      "Wi-Fi          19012\n",
      "Fiber_Optic    18983\n",
      "Mobile_Data    18916\n",
      "Name: internet_option, dtype: int64\n",
      "['Wi-Fi' 'Mobile_Data' 'Fiber_Optic']\n",
      "06:13:29    6\n",
      "02:50:54    6\n",
      "07:56:41    6\n",
      "17:19:02    5\n",
      "03:31:39    5\n",
      "           ..\n",
      "16:57:38    1\n",
      "23:38:00    1\n",
      "22:45:57    1\n",
      "05:44:35    1\n",
      "06:19:12    1\n",
      "Name: last_visit_time, Length: 41745, dtype: int64\n",
      "['16:08:02' '12:38:13' '22:53:21' ... '10:05:51' '00:32:43' '10:50:15']\n",
      "Error                  5437\n",
      "17.0                   2108\n",
      "13.0                   2090\n",
      "14.0                   2084\n",
      "19.0                   2080\n",
      "                       ... \n",
      "33.33864096190216         1\n",
      "-15.637524790689731       1\n",
      "0.4342235722050063        1\n",
      "32.190935875725216        1\n",
      "3.434648272379544         1\n",
      "Name: avg_frequency_login_days, Length: 2569, dtype: int64\n",
      "['17.0' '10.0' '22.0' ... '-8.046258134595238' '27.54911760571708'\n",
      " '-3.1776259177787622']\n",
      "Yes    31304\n",
      "No     25607\n",
      "Name: used_special_discount, dtype: int64\n",
      "['Yes' 'No']\n",
      "Yes    31385\n",
      "No     25526\n",
      "Name: offer_application_preference, dtype: int64\n",
      "['Yes' 'No']\n",
      "No     28552\n",
      "Yes    28359\n",
      "Name: past_complaint, dtype: int64\n",
      "['No' 'Yes']\n",
      "Not Applicable              28552\n",
      "Solved in Follow-up          7167\n",
      "No Information Available     7100\n",
      "Unsolved                     7096\n",
      "Solved                       6996\n",
      "Name: complaint_status, dtype: int64\n",
      "['Not Applicable' 'Solved' 'Solved in Follow-up' 'Unsolved'\n",
      " 'No Information Available']\n",
      "Poor Product Quality        9724\n",
      "No reason specified         9713\n",
      "Too many ads                9680\n",
      "Poor Customer Service       9662\n",
      "Poor Website                9572\n",
      "Reasonable Price            2205\n",
      "Products always in Stock    2160\n",
      "Quality Customer Care       2115\n",
      "User Friendly Website       2080\n",
      "Name: feedback, dtype: int64\n",
      "['Products always in Stock' 'Quality Customer Care' 'Poor Website'\n",
      " 'No reason specified' 'Poor Product Quality' 'Poor Customer Service'\n",
      " 'Too many ads' 'User Friendly Website' 'Reasonable Price']\n"
     ]
    }
   ],
   "source": [
    "for i in combine.columns:\n",
    "    if combine[i].dtype==object:\n",
    "        print(combine[i].value_counts())\n",
    "        print(combine[i].unique())"
   ]
  },
  {
   "cell_type": "code",
   "execution_count": 129,
   "id": "limiting-wilderness",
   "metadata": {},
   "outputs": [
    {
     "data": {
      "text/plain": [
       "(56911, 21)"
      ]
     },
     "execution_count": 129,
     "metadata": {},
     "output_type": "execute_result"
    }
   ],
   "source": [
    "#drop columns having all uniques values\n",
    "combine.drop(['customer_id', 'Name', 'security_no'], axis=1, inplace=True)\n",
    "combine.shape"
   ]
  },
  {
   "cell_type": "code",
   "execution_count": 130,
   "id": "spiritual-conservative",
   "metadata": {},
   "outputs": [
    {
     "data": {
      "text/plain": [
       "age                             False\n",
       "gender                           True\n",
       "region_category                  True\n",
       "membership_category              True\n",
       "joining_date                     True\n",
       "joined_through_referral          True\n",
       "referral_id                      True\n",
       "preferred_offer_types            True\n",
       "medium_of_operation              True\n",
       "internet_option                  True\n",
       "last_visit_time                  True\n",
       "days_since_last_login           False\n",
       "avg_time_spent                  False\n",
       "avg_transaction_value           False\n",
       "avg_frequency_login_days         True\n",
       "points_in_wallet                False\n",
       "used_special_discount            True\n",
       "offer_application_preference     True\n",
       "past_complaint                   True\n",
       "complaint_status                 True\n",
       "feedback                         True\n",
       "dtype: bool"
      ]
     },
     "execution_count": 130,
     "metadata": {},
     "output_type": "execute_result"
    }
   ],
   "source": [
    "#getting object type columns\n",
    "combine.dtypes==object"
   ]
  },
  {
   "cell_type": "code",
   "execution_count": 131,
   "id": "orange-model",
   "metadata": {},
   "outputs": [
    {
     "data": {
      "text/html": [
       "<div>\n",
       "<style scoped>\n",
       "    .dataframe tbody tr th:only-of-type {\n",
       "        vertical-align: middle;\n",
       "    }\n",
       "\n",
       "    .dataframe tbody tr th {\n",
       "        vertical-align: top;\n",
       "    }\n",
       "\n",
       "    .dataframe thead th {\n",
       "        text-align: right;\n",
       "    }\n",
       "</style>\n",
       "<table border=\"1\" class=\"dataframe\">\n",
       "  <thead>\n",
       "    <tr style=\"text-align: right;\">\n",
       "      <th></th>\n",
       "      <th>NaN_sum</th>\n",
       "      <th>feat</th>\n",
       "      <th>type</th>\n",
       "      <th>Perc%</th>\n",
       "      <th>Usability</th>\n",
       "    </tr>\n",
       "  </thead>\n",
       "  <tbody>\n",
       "    <tr>\n",
       "      <th>preferred_offer_types</th>\n",
       "      <td>447</td>\n",
       "      <td>preferred_offer_types</td>\n",
       "      <td>object</td>\n",
       "      <td>0.785437</td>\n",
       "      <td>Keep</td>\n",
       "    </tr>\n",
       "    <tr>\n",
       "      <th>points_in_wallet</th>\n",
       "      <td>5406</td>\n",
       "      <td>points_in_wallet</td>\n",
       "      <td>float64</td>\n",
       "      <td>9.499042</td>\n",
       "      <td>Keep</td>\n",
       "    </tr>\n",
       "    <tr>\n",
       "      <th>region_category</th>\n",
       "      <td>8376</td>\n",
       "      <td>region_category</td>\n",
       "      <td>object</td>\n",
       "      <td>14.717717</td>\n",
       "      <td>Keep</td>\n",
       "    </tr>\n",
       "  </tbody>\n",
       "</table>\n",
       "</div>"
      ],
      "text/plain": [
       "                       NaN_sum                   feat     type      Perc%  \\\n",
       "preferred_offer_types      447  preferred_offer_types   object   0.785437   \n",
       "points_in_wallet          5406       points_in_wallet  float64   9.499042   \n",
       "region_category           8376        region_category   object  14.717717   \n",
       "\n",
       "                      Usability  \n",
       "preferred_offer_types      Keep  \n",
       "points_in_wallet           Keep  \n",
       "region_category            Keep  "
      ]
     },
     "execution_count": 131,
     "metadata": {},
     "output_type": "execute_result"
    }
   ],
   "source": [
    "#Looking at NaN % within data\n",
    "\n",
    "nan=pd.DataFrame(combine.isna().sum(), columns=['NaN_sum'])\n",
    "nan['feat']=nan.index\n",
    "nan['type']=combine.dtypes\n",
    "nan['Perc%']=(nan['NaN_sum']/56911)*100\n",
    "nan=nan[nan['NaN_sum']>0]\n",
    "nan=nan.sort_values(by=['NaN_sum'])\n",
    "nan['Usability']=np.where(nan['Perc%']>20, 'Discard', 'Keep')\n",
    "nan"
   ]
  },
  {
   "cell_type": "code",
   "execution_count": 132,
   "id": "skilled-local",
   "metadata": {},
   "outputs": [],
   "source": [
    "# #visualization of values in object type columns\n",
    "# fig, ax=plt.subplots(4,4, figsize=(20,20))\n",
    "# r=0\n",
    "# c=0\n",
    "# for i in combine.columns:\n",
    "#     if combine[i].dtype==object:\n",
    "#         print(i)\n",
    "#         sns.countplot(x=i, data=combine, ax=ax[r,c])\n",
    "#         c+=1\n",
    "#         if c==4:\n",
    "#             r+=1\n",
    "#             c=0"
   ]
  },
  {
   "cell_type": "markdown",
   "id": "demographic-migration",
   "metadata": {},
   "source": [
    "# Filling missing values"
   ]
  },
  {
   "cell_type": "code",
   "execution_count": 133,
   "id": "biological-intervention",
   "metadata": {},
   "outputs": [],
   "source": [
    "#filling object columns\n",
    "combine['preferred_offer_types']=combine['preferred_offer_types'].fillna(combine['preferred_offer_types'].mode()[0])\n",
    "combine['region_category']=combine['region_category'].fillna(combine['region_category'].mode()[0])"
   ]
  },
  {
   "cell_type": "code",
   "execution_count": 134,
   "id": "funky-implement",
   "metadata": {},
   "outputs": [],
   "source": [
    "#filling numeric column\n",
    "from sklearn.impute import KNNImputer\n",
    "impute=KNNImputer()\n",
    "colsf=combine.select_dtypes(include=float).columns\n",
    "combine[colsf]=impute.fit_transform(combine.select_dtypes(include=float))"
   ]
  },
  {
   "cell_type": "code",
   "execution_count": 135,
   "id": "brown-basin",
   "metadata": {},
   "outputs": [
    {
     "data": {
      "text/html": [
       "<div>\n",
       "<style scoped>\n",
       "    .dataframe tbody tr th:only-of-type {\n",
       "        vertical-align: middle;\n",
       "    }\n",
       "\n",
       "    .dataframe tbody tr th {\n",
       "        vertical-align: top;\n",
       "    }\n",
       "\n",
       "    .dataframe thead th {\n",
       "        text-align: right;\n",
       "    }\n",
       "</style>\n",
       "<table border=\"1\" class=\"dataframe\">\n",
       "  <thead>\n",
       "    <tr style=\"text-align: right;\">\n",
       "      <th></th>\n",
       "      <th>NaN_sum</th>\n",
       "      <th>feat</th>\n",
       "      <th>type</th>\n",
       "      <th>Perc%</th>\n",
       "      <th>Usability</th>\n",
       "    </tr>\n",
       "  </thead>\n",
       "  <tbody>\n",
       "  </tbody>\n",
       "</table>\n",
       "</div>"
      ],
      "text/plain": [
       "Empty DataFrame\n",
       "Columns: [NaN_sum, feat, type, Perc%, Usability]\n",
       "Index: []"
      ]
     },
     "execution_count": 135,
     "metadata": {},
     "output_type": "execute_result"
    }
   ],
   "source": [
    "#Looking at NaN % within data\n",
    "nan=pd.DataFrame(combine.isna().sum(), columns=['NaN_sum'])\n",
    "nan['feat']=nan.index\n",
    "nan['type']=combine.dtypes\n",
    "nan['Perc%']=(nan['NaN_sum']/56911)*100\n",
    "nan=nan[nan['NaN_sum']>0]\n",
    "nan=nan.sort_values(by=['NaN_sum'])\n",
    "nan['Usability']=np.where(nan['Perc%']>20, 'Discard', 'Keep')\n",
    "nan"
   ]
  },
  {
   "cell_type": "markdown",
   "id": "pointed-anthropology",
   "metadata": {},
   "source": [
    "No NaN values remaining"
   ]
  },
  {
   "cell_type": "markdown",
   "id": "sized-progress",
   "metadata": {},
   "source": [
    "# Preprocessing of object type columns\n",
    "* gender - gen<br>\n",
    "*region_category - region<br>\n",
    "*membership_category - mem<br>\n",
    "*joining_date<br>\n",
    "*joined_through_referral - refer<br>\n",
    "*referral_id<br>\n",
    "*preferred_offer_types - off<br>\n",
    "*medium_of_operation - op<br>\n",
    "*internet_option - inter<br>\n",
    "*last_visit_time<br>\n",
    "*avg_frequency_login_days<br>\n",
    "*used_special_discount - discount<br>\n",
    "*offer_application_preference - offer<br>\n",
    "*past_complaint - complaint<br>\n",
    "*complaint_status - status<br>\n",
    "*feedback - feed<br>"
   ]
  },
  {
   "cell_type": "code",
   "execution_count": 136,
   "id": "municipal-stick",
   "metadata": {},
   "outputs": [
    {
     "data": {
      "text/plain": [
       "(56911, 21)"
      ]
     },
     "execution_count": 136,
     "metadata": {},
     "output_type": "execute_result"
    }
   ],
   "source": [
    "dummy_combine=pd.DataFrame.copy(combine)\n",
    "dummy_combine.shape"
   ]
  },
  {
   "cell_type": "markdown",
   "id": "pending-venice",
   "metadata": {},
   "source": [
    "* preprocessing columns having limited categories"
   ]
  },
  {
   "cell_type": "code",
   "execution_count": 137,
   "id": "insured-macro",
   "metadata": {},
   "outputs": [
    {
     "data": {
      "text/plain": [
       "F          28462\n",
       "M          28354\n",
       "Unknown       95\n",
       "Name: gender, dtype: int64"
      ]
     },
     "execution_count": 137,
     "metadata": {},
     "output_type": "execute_result"
    }
   ],
   "source": [
    "combine['gender'].value_counts()"
   ]
  },
  {
   "cell_type": "code",
   "execution_count": 138,
   "id": "liberal-judgment",
   "metadata": {},
   "outputs": [
    {
     "data": {
      "text/html": [
       "<div>\n",
       "<style scoped>\n",
       "    .dataframe tbody tr th:only-of-type {\n",
       "        vertical-align: middle;\n",
       "    }\n",
       "\n",
       "    .dataframe tbody tr th {\n",
       "        vertical-align: top;\n",
       "    }\n",
       "\n",
       "    .dataframe thead th {\n",
       "        text-align: right;\n",
       "    }\n",
       "</style>\n",
       "<table border=\"1\" class=\"dataframe\">\n",
       "  <thead>\n",
       "    <tr style=\"text-align: right;\">\n",
       "      <th></th>\n",
       "      <th>F</th>\n",
       "      <th>M</th>\n",
       "      <th>Unknown</th>\n",
       "    </tr>\n",
       "  </thead>\n",
       "  <tbody>\n",
       "    <tr>\n",
       "      <th>0</th>\n",
       "      <td>1</td>\n",
       "      <td>0</td>\n",
       "      <td>0</td>\n",
       "    </tr>\n",
       "    <tr>\n",
       "      <th>1</th>\n",
       "      <td>1</td>\n",
       "      <td>0</td>\n",
       "      <td>0</td>\n",
       "    </tr>\n",
       "  </tbody>\n",
       "</table>\n",
       "</div>"
      ],
      "text/plain": [
       "   F  M  Unknown\n",
       "0  1  0        0\n",
       "1  1  0        0"
      ]
     },
     "execution_count": 138,
     "metadata": {},
     "output_type": "execute_result"
    }
   ],
   "source": [
    "dummy=pd.get_dummies(combine['gender'])\n",
    "dummy.head(2)"
   ]
  },
  {
   "cell_type": "code",
   "execution_count": 139,
   "id": "professional-balance",
   "metadata": {},
   "outputs": [
    {
     "data": {
      "text/plain": [
       "(56911, 24)"
      ]
     },
     "execution_count": 139,
     "metadata": {},
     "output_type": "execute_result"
    }
   ],
   "source": [
    "dummy=pd.get_dummies(combine['gender'])\n",
    "dummy.columns=['gen_f', 'gen_m', 'gen_un']\n",
    "dummy_combine=pd.concat([dummy_combine, dummy], axis=1)\n",
    "dummy_combine.shape"
   ]
  },
  {
   "cell_type": "code",
   "execution_count": 140,
   "id": "choice-hostel",
   "metadata": {},
   "outputs": [
    {
     "data": {
      "text/plain": [
       "Town       30139\n",
       "City       19529\n",
       "Village     7243\n",
       "Name: region_category, dtype: int64"
      ]
     },
     "execution_count": 140,
     "metadata": {},
     "output_type": "execute_result"
    }
   ],
   "source": [
    "combine['region_category'].value_counts()"
   ]
  },
  {
   "cell_type": "code",
   "execution_count": 141,
   "id": "trying-motivation",
   "metadata": {},
   "outputs": [
    {
     "data": {
      "text/html": [
       "<div>\n",
       "<style scoped>\n",
       "    .dataframe tbody tr th:only-of-type {\n",
       "        vertical-align: middle;\n",
       "    }\n",
       "\n",
       "    .dataframe tbody tr th {\n",
       "        vertical-align: top;\n",
       "    }\n",
       "\n",
       "    .dataframe thead th {\n",
       "        text-align: right;\n",
       "    }\n",
       "</style>\n",
       "<table border=\"1\" class=\"dataframe\">\n",
       "  <thead>\n",
       "    <tr style=\"text-align: right;\">\n",
       "      <th></th>\n",
       "      <th>City</th>\n",
       "      <th>Town</th>\n",
       "      <th>Village</th>\n",
       "    </tr>\n",
       "  </thead>\n",
       "  <tbody>\n",
       "    <tr>\n",
       "      <th>0</th>\n",
       "      <td>0</td>\n",
       "      <td>0</td>\n",
       "      <td>1</td>\n",
       "    </tr>\n",
       "    <tr>\n",
       "      <th>1</th>\n",
       "      <td>1</td>\n",
       "      <td>0</td>\n",
       "      <td>0</td>\n",
       "    </tr>\n",
       "  </tbody>\n",
       "</table>\n",
       "</div>"
      ],
      "text/plain": [
       "   City  Town  Village\n",
       "0     0     0        1\n",
       "1     1     0        0"
      ]
     },
     "execution_count": 141,
     "metadata": {},
     "output_type": "execute_result"
    }
   ],
   "source": [
    "dummy=pd.get_dummies(combine['region_category'])\n",
    "dummy.head(2)"
   ]
  },
  {
   "cell_type": "code",
   "execution_count": 142,
   "id": "interracial-capture",
   "metadata": {},
   "outputs": [
    {
     "data": {
      "text/plain": [
       "(56911, 27)"
      ]
     },
     "execution_count": 142,
     "metadata": {},
     "output_type": "execute_result"
    }
   ],
   "source": [
    "dummy=pd.get_dummies(combine['region_category'])\n",
    "dummy.columns=['region_city', 'region_town', 'region_village']\n",
    "dummy_combine=pd.concat([dummy_combine, dummy], axis=1)\n",
    "dummy_combine.shape"
   ]
  },
  {
   "cell_type": "code",
   "execution_count": 143,
   "id": "official-blank",
   "metadata": {},
   "outputs": [
    {
     "data": {
      "text/plain": [
       "No Membership          11815\n",
       "Basic Membership       11808\n",
       "Gold Membership        10545\n",
       "Silver Membership       9187\n",
       "Premium Membership      6820\n",
       "Platinum Membership     6736\n",
       "Name: membership_category, dtype: int64"
      ]
     },
     "execution_count": 143,
     "metadata": {},
     "output_type": "execute_result"
    }
   ],
   "source": [
    "combine['membership_category'].value_counts()"
   ]
  },
  {
   "cell_type": "code",
   "execution_count": 144,
   "id": "statistical-dubai",
   "metadata": {},
   "outputs": [
    {
     "data": {
      "text/html": [
       "<div>\n",
       "<style scoped>\n",
       "    .dataframe tbody tr th:only-of-type {\n",
       "        vertical-align: middle;\n",
       "    }\n",
       "\n",
       "    .dataframe tbody tr th {\n",
       "        vertical-align: top;\n",
       "    }\n",
       "\n",
       "    .dataframe thead th {\n",
       "        text-align: right;\n",
       "    }\n",
       "</style>\n",
       "<table border=\"1\" class=\"dataframe\">\n",
       "  <thead>\n",
       "    <tr style=\"text-align: right;\">\n",
       "      <th></th>\n",
       "      <th>Basic Membership</th>\n",
       "      <th>Gold Membership</th>\n",
       "      <th>No Membership</th>\n",
       "      <th>Platinum Membership</th>\n",
       "      <th>Premium Membership</th>\n",
       "      <th>Silver Membership</th>\n",
       "    </tr>\n",
       "  </thead>\n",
       "  <tbody>\n",
       "    <tr>\n",
       "      <th>0</th>\n",
       "      <td>0</td>\n",
       "      <td>0</td>\n",
       "      <td>0</td>\n",
       "      <td>1</td>\n",
       "      <td>0</td>\n",
       "      <td>0</td>\n",
       "    </tr>\n",
       "    <tr>\n",
       "      <th>1</th>\n",
       "      <td>0</td>\n",
       "      <td>0</td>\n",
       "      <td>0</td>\n",
       "      <td>0</td>\n",
       "      <td>1</td>\n",
       "      <td>0</td>\n",
       "    </tr>\n",
       "  </tbody>\n",
       "</table>\n",
       "</div>"
      ],
      "text/plain": [
       "   Basic Membership  Gold Membership  No Membership  Platinum Membership  \\\n",
       "0                 0                0              0                    1   \n",
       "1                 0                0              0                    0   \n",
       "\n",
       "   Premium Membership  Silver Membership  \n",
       "0                   0                  0  \n",
       "1                   1                  0  "
      ]
     },
     "execution_count": 144,
     "metadata": {},
     "output_type": "execute_result"
    }
   ],
   "source": [
    "dummy=pd.get_dummies(combine['membership_category'])\n",
    "dummy.head(2)"
   ]
  },
  {
   "cell_type": "code",
   "execution_count": 145,
   "id": "junior-telling",
   "metadata": {},
   "outputs": [
    {
     "data": {
      "text/plain": [
       "(56911, 33)"
      ]
     },
     "execution_count": 145,
     "metadata": {},
     "output_type": "execute_result"
    }
   ],
   "source": [
    "dummy=pd.get_dummies(combine['membership_category'])\n",
    "dummy.columns=['mem_basic', 'mem_gold', 'mem_no', 'mem_plat', 'mem_prem', 'mem_silver']\n",
    "dummy_combine=pd.concat([dummy_combine, dummy], axis=1)\n",
    "dummy_combine.shape"
   ]
  },
  {
   "cell_type": "code",
   "execution_count": 146,
   "id": "pressed-bronze",
   "metadata": {},
   "outputs": [
    {
     "data": {
      "text/plain": [
       "Credit/Debit Card Offers    19323\n",
       "Gift Vouchers/Coupons       18844\n",
       "Without Offers              18744\n",
       "Name: preferred_offer_types, dtype: int64"
      ]
     },
     "execution_count": 146,
     "metadata": {},
     "output_type": "execute_result"
    }
   ],
   "source": [
    "combine['preferred_offer_types'].value_counts()"
   ]
  },
  {
   "cell_type": "code",
   "execution_count": 147,
   "id": "private-waters",
   "metadata": {},
   "outputs": [
    {
     "data": {
      "text/html": [
       "<div>\n",
       "<style scoped>\n",
       "    .dataframe tbody tr th:only-of-type {\n",
       "        vertical-align: middle;\n",
       "    }\n",
       "\n",
       "    .dataframe tbody tr th {\n",
       "        vertical-align: top;\n",
       "    }\n",
       "\n",
       "    .dataframe thead th {\n",
       "        text-align: right;\n",
       "    }\n",
       "</style>\n",
       "<table border=\"1\" class=\"dataframe\">\n",
       "  <thead>\n",
       "    <tr style=\"text-align: right;\">\n",
       "      <th></th>\n",
       "      <th>Credit/Debit Card Offers</th>\n",
       "      <th>Gift Vouchers/Coupons</th>\n",
       "      <th>Without Offers</th>\n",
       "    </tr>\n",
       "  </thead>\n",
       "  <tbody>\n",
       "    <tr>\n",
       "      <th>0</th>\n",
       "      <td>0</td>\n",
       "      <td>1</td>\n",
       "      <td>0</td>\n",
       "    </tr>\n",
       "    <tr>\n",
       "      <th>1</th>\n",
       "      <td>0</td>\n",
       "      <td>1</td>\n",
       "      <td>0</td>\n",
       "    </tr>\n",
       "  </tbody>\n",
       "</table>\n",
       "</div>"
      ],
      "text/plain": [
       "   Credit/Debit Card Offers  Gift Vouchers/Coupons  Without Offers\n",
       "0                         0                      1               0\n",
       "1                         0                      1               0"
      ]
     },
     "execution_count": 147,
     "metadata": {},
     "output_type": "execute_result"
    }
   ],
   "source": [
    "dummy=pd.get_dummies(combine['preferred_offer_types'])\n",
    "dummy.head(2)"
   ]
  },
  {
   "cell_type": "code",
   "execution_count": 148,
   "id": "activated-australia",
   "metadata": {},
   "outputs": [
    {
     "data": {
      "text/plain": [
       "(56911, 36)"
      ]
     },
     "execution_count": 148,
     "metadata": {},
     "output_type": "execute_result"
    }
   ],
   "source": [
    "dummy=pd.get_dummies(combine['preferred_offer_types'])\n",
    "dummy.columns=['off_card', 'off_coupon', 'off_none']\n",
    "dummy_combine=pd.concat([dummy_combine, dummy], axis=1)\n",
    "dummy_combine.shape"
   ]
  },
  {
   "cell_type": "code",
   "execution_count": 149,
   "id": "positive-pregnancy",
   "metadata": {},
   "outputs": [],
   "source": [
    "# temp=combine['medium_of_operation']\n",
    "# cc=temp.replace('?',np.nan)\n",
    "# cc.isna().sum()"
   ]
  },
  {
   "cell_type": "code",
   "execution_count": 150,
   "id": "expired-style",
   "metadata": {},
   "outputs": [
    {
     "data": {
      "text/plain": [
       "Desktop       21376\n",
       "Smartphone    21281\n",
       "?              8357\n",
       "Both           5897\n",
       "Name: medium_of_operation, dtype: int64"
      ]
     },
     "execution_count": 150,
     "metadata": {},
     "output_type": "execute_result"
    }
   ],
   "source": [
    "combine['medium_of_operation'].value_counts()"
   ]
  },
  {
   "cell_type": "code",
   "execution_count": 151,
   "id": "christian-avatar",
   "metadata": {},
   "outputs": [
    {
     "data": {
      "text/plain": [
       "Desktop       21376\n",
       "Smartphone    21281\n",
       "Both          14254\n",
       "Name: medium_of_operation, dtype: int64"
      ]
     },
     "execution_count": 151,
     "metadata": {},
     "output_type": "execute_result"
    }
   ],
   "source": [
    "combine['medium_of_operation']=combine['medium_of_operation'].replace('?', 'Both')\n",
    "combine['medium_of_operation'].value_counts()"
   ]
  },
  {
   "cell_type": "code",
   "execution_count": 152,
   "id": "minimal-mining",
   "metadata": {},
   "outputs": [
    {
     "data": {
      "text/html": [
       "<div>\n",
       "<style scoped>\n",
       "    .dataframe tbody tr th:only-of-type {\n",
       "        vertical-align: middle;\n",
       "    }\n",
       "\n",
       "    .dataframe tbody tr th {\n",
       "        vertical-align: top;\n",
       "    }\n",
       "\n",
       "    .dataframe thead th {\n",
       "        text-align: right;\n",
       "    }\n",
       "</style>\n",
       "<table border=\"1\" class=\"dataframe\">\n",
       "  <thead>\n",
       "    <tr style=\"text-align: right;\">\n",
       "      <th></th>\n",
       "      <th>Both</th>\n",
       "      <th>Desktop</th>\n",
       "      <th>Smartphone</th>\n",
       "    </tr>\n",
       "  </thead>\n",
       "  <tbody>\n",
       "    <tr>\n",
       "      <th>0</th>\n",
       "      <td>1</td>\n",
       "      <td>0</td>\n",
       "      <td>0</td>\n",
       "    </tr>\n",
       "    <tr>\n",
       "      <th>1</th>\n",
       "      <td>0</td>\n",
       "      <td>1</td>\n",
       "      <td>0</td>\n",
       "    </tr>\n",
       "  </tbody>\n",
       "</table>\n",
       "</div>"
      ],
      "text/plain": [
       "   Both  Desktop  Smartphone\n",
       "0     1        0           0\n",
       "1     0        1           0"
      ]
     },
     "execution_count": 152,
     "metadata": {},
     "output_type": "execute_result"
    }
   ],
   "source": [
    "dummy=pd.get_dummies(combine['medium_of_operation'])\n",
    "dummy.head(2)"
   ]
  },
  {
   "cell_type": "code",
   "execution_count": 153,
   "id": "absent-ethnic",
   "metadata": {},
   "outputs": [
    {
     "data": {
      "text/plain": [
       "(56911, 39)"
      ]
     },
     "execution_count": 153,
     "metadata": {},
     "output_type": "execute_result"
    }
   ],
   "source": [
    "dummy=pd.get_dummies(combine['medium_of_operation'])\n",
    "dummy.columns=['op_both', 'op_desk', 'op_phone']\n",
    "dummy_combine=pd.concat([dummy_combine, dummy], axis=1)\n",
    "dummy_combine.shape"
   ]
  },
  {
   "cell_type": "code",
   "execution_count": 154,
   "id": "binding-republic",
   "metadata": {},
   "outputs": [
    {
     "data": {
      "text/plain": [
       "Wi-Fi          19012\n",
       "Fiber_Optic    18983\n",
       "Mobile_Data    18916\n",
       "Name: internet_option, dtype: int64"
      ]
     },
     "execution_count": 154,
     "metadata": {},
     "output_type": "execute_result"
    }
   ],
   "source": [
    "combine['internet_option'].value_counts()"
   ]
  },
  {
   "cell_type": "code",
   "execution_count": 155,
   "id": "sensitive-architect",
   "metadata": {},
   "outputs": [
    {
     "data": {
      "text/html": [
       "<div>\n",
       "<style scoped>\n",
       "    .dataframe tbody tr th:only-of-type {\n",
       "        vertical-align: middle;\n",
       "    }\n",
       "\n",
       "    .dataframe tbody tr th {\n",
       "        vertical-align: top;\n",
       "    }\n",
       "\n",
       "    .dataframe thead th {\n",
       "        text-align: right;\n",
       "    }\n",
       "</style>\n",
       "<table border=\"1\" class=\"dataframe\">\n",
       "  <thead>\n",
       "    <tr style=\"text-align: right;\">\n",
       "      <th></th>\n",
       "      <th>Fiber_Optic</th>\n",
       "      <th>Mobile_Data</th>\n",
       "      <th>Wi-Fi</th>\n",
       "    </tr>\n",
       "  </thead>\n",
       "  <tbody>\n",
       "    <tr>\n",
       "      <th>0</th>\n",
       "      <td>0</td>\n",
       "      <td>0</td>\n",
       "      <td>1</td>\n",
       "    </tr>\n",
       "    <tr>\n",
       "      <th>1</th>\n",
       "      <td>0</td>\n",
       "      <td>1</td>\n",
       "      <td>0</td>\n",
       "    </tr>\n",
       "  </tbody>\n",
       "</table>\n",
       "</div>"
      ],
      "text/plain": [
       "   Fiber_Optic  Mobile_Data  Wi-Fi\n",
       "0            0            0      1\n",
       "1            0            1      0"
      ]
     },
     "execution_count": 155,
     "metadata": {},
     "output_type": "execute_result"
    }
   ],
   "source": [
    "dummy=pd.get_dummies(combine['internet_option'])\n",
    "dummy.head(2)"
   ]
  },
  {
   "cell_type": "code",
   "execution_count": 156,
   "id": "moving-engine",
   "metadata": {},
   "outputs": [
    {
     "data": {
      "text/plain": [
       "(56911, 42)"
      ]
     },
     "execution_count": 156,
     "metadata": {},
     "output_type": "execute_result"
    }
   ],
   "source": [
    "dummy=pd.get_dummies(combine['internet_option'])\n",
    "dummy.columns=['inter_fiber', 'inter_data', 'inter_wifi']\n",
    "dummy_combine=pd.concat([dummy_combine, dummy], axis=1)\n",
    "dummy_combine.shape"
   ]
  },
  {
   "cell_type": "code",
   "execution_count": 157,
   "id": "healthy-foster",
   "metadata": {},
   "outputs": [
    {
     "data": {
      "text/plain": [
       "Yes    31304\n",
       "No     25607\n",
       "Name: used_special_discount, dtype: int64"
      ]
     },
     "execution_count": 157,
     "metadata": {},
     "output_type": "execute_result"
    }
   ],
   "source": [
    "combine['used_special_discount'].value_counts()"
   ]
  },
  {
   "cell_type": "code",
   "execution_count": 158,
   "id": "configured-stupid",
   "metadata": {},
   "outputs": [
    {
     "data": {
      "text/html": [
       "<div>\n",
       "<style scoped>\n",
       "    .dataframe tbody tr th:only-of-type {\n",
       "        vertical-align: middle;\n",
       "    }\n",
       "\n",
       "    .dataframe tbody tr th {\n",
       "        vertical-align: top;\n",
       "    }\n",
       "\n",
       "    .dataframe thead th {\n",
       "        text-align: right;\n",
       "    }\n",
       "</style>\n",
       "<table border=\"1\" class=\"dataframe\">\n",
       "  <thead>\n",
       "    <tr style=\"text-align: right;\">\n",
       "      <th></th>\n",
       "      <th>No</th>\n",
       "      <th>Yes</th>\n",
       "    </tr>\n",
       "  </thead>\n",
       "  <tbody>\n",
       "    <tr>\n",
       "      <th>0</th>\n",
       "      <td>0</td>\n",
       "      <td>1</td>\n",
       "    </tr>\n",
       "    <tr>\n",
       "      <th>1</th>\n",
       "      <td>0</td>\n",
       "      <td>1</td>\n",
       "    </tr>\n",
       "  </tbody>\n",
       "</table>\n",
       "</div>"
      ],
      "text/plain": [
       "   No  Yes\n",
       "0   0    1\n",
       "1   0    1"
      ]
     },
     "execution_count": 158,
     "metadata": {},
     "output_type": "execute_result"
    }
   ],
   "source": [
    "dummy=pd.get_dummies(combine['used_special_discount'])\n",
    "dummy.head(2)"
   ]
  },
  {
   "cell_type": "code",
   "execution_count": 159,
   "id": "medieval-party",
   "metadata": {},
   "outputs": [
    {
     "data": {
      "text/plain": [
       "(56911, 44)"
      ]
     },
     "execution_count": 159,
     "metadata": {},
     "output_type": "execute_result"
    }
   ],
   "source": [
    "dummy=pd.get_dummies(combine['used_special_discount'])\n",
    "dummy.columns=['discount_no', 'discount_yes']\n",
    "dummy_combine=pd.concat([dummy_combine, dummy], axis=1)\n",
    "dummy_combine.shape"
   ]
  },
  {
   "cell_type": "code",
   "execution_count": 160,
   "id": "posted-cable",
   "metadata": {},
   "outputs": [
    {
     "data": {
      "text/plain": [
       "Yes    31385\n",
       "No     25526\n",
       "Name: offer_application_preference, dtype: int64"
      ]
     },
     "execution_count": 160,
     "metadata": {},
     "output_type": "execute_result"
    }
   ],
   "source": [
    "combine['offer_application_preference'].value_counts()"
   ]
  },
  {
   "cell_type": "code",
   "execution_count": 161,
   "id": "russian-ground",
   "metadata": {},
   "outputs": [
    {
     "data": {
      "text/html": [
       "<div>\n",
       "<style scoped>\n",
       "    .dataframe tbody tr th:only-of-type {\n",
       "        vertical-align: middle;\n",
       "    }\n",
       "\n",
       "    .dataframe tbody tr th {\n",
       "        vertical-align: top;\n",
       "    }\n",
       "\n",
       "    .dataframe thead th {\n",
       "        text-align: right;\n",
       "    }\n",
       "</style>\n",
       "<table border=\"1\" class=\"dataframe\">\n",
       "  <thead>\n",
       "    <tr style=\"text-align: right;\">\n",
       "      <th></th>\n",
       "      <th>No</th>\n",
       "      <th>Yes</th>\n",
       "    </tr>\n",
       "  </thead>\n",
       "  <tbody>\n",
       "    <tr>\n",
       "      <th>0</th>\n",
       "      <td>0</td>\n",
       "      <td>1</td>\n",
       "    </tr>\n",
       "    <tr>\n",
       "      <th>1</th>\n",
       "      <td>1</td>\n",
       "      <td>0</td>\n",
       "    </tr>\n",
       "  </tbody>\n",
       "</table>\n",
       "</div>"
      ],
      "text/plain": [
       "   No  Yes\n",
       "0   0    1\n",
       "1   1    0"
      ]
     },
     "execution_count": 161,
     "metadata": {},
     "output_type": "execute_result"
    }
   ],
   "source": [
    "dummy=pd.get_dummies(combine['offer_application_preference'])\n",
    "dummy.head(2)"
   ]
  },
  {
   "cell_type": "code",
   "execution_count": 162,
   "id": "british-network",
   "metadata": {},
   "outputs": [
    {
     "data": {
      "text/plain": [
       "(56911, 46)"
      ]
     },
     "execution_count": 162,
     "metadata": {},
     "output_type": "execute_result"
    }
   ],
   "source": [
    "dummy=pd.get_dummies(combine['offer_application_preference'])\n",
    "dummy.columns=['offer_no', 'offer_yes']\n",
    "dummy_combine=pd.concat([dummy_combine, dummy], axis=1)\n",
    "dummy_combine.shape"
   ]
  },
  {
   "cell_type": "code",
   "execution_count": 163,
   "id": "normal-norman",
   "metadata": {},
   "outputs": [
    {
     "data": {
      "text/plain": [
       "No     28552\n",
       "Yes    28359\n",
       "Name: past_complaint, dtype: int64"
      ]
     },
     "execution_count": 163,
     "metadata": {},
     "output_type": "execute_result"
    }
   ],
   "source": [
    "combine['past_complaint'].value_counts()"
   ]
  },
  {
   "cell_type": "code",
   "execution_count": 164,
   "id": "grand-hampton",
   "metadata": {},
   "outputs": [
    {
     "data": {
      "text/html": [
       "<div>\n",
       "<style scoped>\n",
       "    .dataframe tbody tr th:only-of-type {\n",
       "        vertical-align: middle;\n",
       "    }\n",
       "\n",
       "    .dataframe tbody tr th {\n",
       "        vertical-align: top;\n",
       "    }\n",
       "\n",
       "    .dataframe thead th {\n",
       "        text-align: right;\n",
       "    }\n",
       "</style>\n",
       "<table border=\"1\" class=\"dataframe\">\n",
       "  <thead>\n",
       "    <tr style=\"text-align: right;\">\n",
       "      <th></th>\n",
       "      <th>No</th>\n",
       "      <th>Yes</th>\n",
       "    </tr>\n",
       "  </thead>\n",
       "  <tbody>\n",
       "    <tr>\n",
       "      <th>0</th>\n",
       "      <td>1</td>\n",
       "      <td>0</td>\n",
       "    </tr>\n",
       "    <tr>\n",
       "      <th>1</th>\n",
       "      <td>0</td>\n",
       "      <td>1</td>\n",
       "    </tr>\n",
       "  </tbody>\n",
       "</table>\n",
       "</div>"
      ],
      "text/plain": [
       "   No  Yes\n",
       "0   1    0\n",
       "1   0    1"
      ]
     },
     "execution_count": 164,
     "metadata": {},
     "output_type": "execute_result"
    }
   ],
   "source": [
    "dummy=pd.get_dummies(combine['past_complaint'])\n",
    "dummy.head(2)"
   ]
  },
  {
   "cell_type": "code",
   "execution_count": 165,
   "id": "behind-arbitration",
   "metadata": {},
   "outputs": [
    {
     "data": {
      "text/plain": [
       "(56911, 48)"
      ]
     },
     "execution_count": 165,
     "metadata": {},
     "output_type": "execute_result"
    }
   ],
   "source": [
    "dummy=pd.get_dummies(combine['past_complaint'])\n",
    "dummy.columns=['complaint_no', 'complaint_yes']\n",
    "dummy_combine=pd.concat([dummy_combine, dummy], axis=1)\n",
    "dummy_combine.shape"
   ]
  },
  {
   "cell_type": "code",
   "execution_count": 166,
   "id": "prerequisite-wonder",
   "metadata": {},
   "outputs": [
    {
     "data": {
      "text/plain": [
       "Not Applicable              28552\n",
       "Solved in Follow-up          7167\n",
       "No Information Available     7100\n",
       "Unsolved                     7096\n",
       "Solved                       6996\n",
       "Name: complaint_status, dtype: int64"
      ]
     },
     "execution_count": 166,
     "metadata": {},
     "output_type": "execute_result"
    }
   ],
   "source": [
    "combine['complaint_status'].value_counts()"
   ]
  },
  {
   "cell_type": "code",
   "execution_count": 167,
   "id": "whole-proxy",
   "metadata": {},
   "outputs": [
    {
     "data": {
      "text/html": [
       "<div>\n",
       "<style scoped>\n",
       "    .dataframe tbody tr th:only-of-type {\n",
       "        vertical-align: middle;\n",
       "    }\n",
       "\n",
       "    .dataframe tbody tr th {\n",
       "        vertical-align: top;\n",
       "    }\n",
       "\n",
       "    .dataframe thead th {\n",
       "        text-align: right;\n",
       "    }\n",
       "</style>\n",
       "<table border=\"1\" class=\"dataframe\">\n",
       "  <thead>\n",
       "    <tr style=\"text-align: right;\">\n",
       "      <th></th>\n",
       "      <th>No Information Available</th>\n",
       "      <th>Not Applicable</th>\n",
       "      <th>Solved</th>\n",
       "      <th>Solved in Follow-up</th>\n",
       "      <th>Unsolved</th>\n",
       "    </tr>\n",
       "  </thead>\n",
       "  <tbody>\n",
       "    <tr>\n",
       "      <th>0</th>\n",
       "      <td>0</td>\n",
       "      <td>1</td>\n",
       "      <td>0</td>\n",
       "      <td>0</td>\n",
       "      <td>0</td>\n",
       "    </tr>\n",
       "    <tr>\n",
       "      <th>1</th>\n",
       "      <td>0</td>\n",
       "      <td>0</td>\n",
       "      <td>1</td>\n",
       "      <td>0</td>\n",
       "      <td>0</td>\n",
       "    </tr>\n",
       "  </tbody>\n",
       "</table>\n",
       "</div>"
      ],
      "text/plain": [
       "   No Information Available  Not Applicable  Solved  Solved in Follow-up  \\\n",
       "0                         0               1       0                    0   \n",
       "1                         0               0       1                    0   \n",
       "\n",
       "   Unsolved  \n",
       "0         0  \n",
       "1         0  "
      ]
     },
     "execution_count": 167,
     "metadata": {},
     "output_type": "execute_result"
    }
   ],
   "source": [
    "dummy=pd.get_dummies(combine['complaint_status'])\n",
    "dummy.head(2)"
   ]
  },
  {
   "cell_type": "code",
   "execution_count": 168,
   "id": "noticed-uncle",
   "metadata": {},
   "outputs": [
    {
     "data": {
      "text/plain": [
       "(56911, 53)"
      ]
     },
     "execution_count": 168,
     "metadata": {},
     "output_type": "execute_result"
    }
   ],
   "source": [
    "dummy=pd.get_dummies(combine['complaint_status'])\n",
    "dummy.columns=['status_noinfo', 'status_not', 'status_solved', 'status_followup', 'status_unsolved']\n",
    "dummy_combine=pd.concat([dummy_combine, dummy], axis=1)\n",
    "dummy_combine.shape"
   ]
  },
  {
   "cell_type": "code",
   "execution_count": 169,
   "id": "tested-grove",
   "metadata": {},
   "outputs": [
    {
     "data": {
      "text/plain": [
       "Poor Product Quality        9724\n",
       "No reason specified         9713\n",
       "Too many ads                9680\n",
       "Poor Customer Service       9662\n",
       "Poor Website                9572\n",
       "Reasonable Price            2205\n",
       "Products always in Stock    2160\n",
       "Quality Customer Care       2115\n",
       "User Friendly Website       2080\n",
       "Name: feedback, dtype: int64"
      ]
     },
     "execution_count": 169,
     "metadata": {},
     "output_type": "execute_result"
    }
   ],
   "source": [
    "combine['feedback'].value_counts()"
   ]
  },
  {
   "cell_type": "code",
   "execution_count": 170,
   "id": "posted-microwave",
   "metadata": {},
   "outputs": [
    {
     "data": {
      "text/html": [
       "<div>\n",
       "<style scoped>\n",
       "    .dataframe tbody tr th:only-of-type {\n",
       "        vertical-align: middle;\n",
       "    }\n",
       "\n",
       "    .dataframe tbody tr th {\n",
       "        vertical-align: top;\n",
       "    }\n",
       "\n",
       "    .dataframe thead th {\n",
       "        text-align: right;\n",
       "    }\n",
       "</style>\n",
       "<table border=\"1\" class=\"dataframe\">\n",
       "  <thead>\n",
       "    <tr style=\"text-align: right;\">\n",
       "      <th></th>\n",
       "      <th>No reason specified</th>\n",
       "      <th>Poor Customer Service</th>\n",
       "      <th>Poor Product Quality</th>\n",
       "      <th>Poor Website</th>\n",
       "      <th>Products always in Stock</th>\n",
       "      <th>Quality Customer Care</th>\n",
       "      <th>Reasonable Price</th>\n",
       "      <th>Too many ads</th>\n",
       "      <th>User Friendly Website</th>\n",
       "    </tr>\n",
       "  </thead>\n",
       "  <tbody>\n",
       "    <tr>\n",
       "      <th>0</th>\n",
       "      <td>0</td>\n",
       "      <td>0</td>\n",
       "      <td>0</td>\n",
       "      <td>0</td>\n",
       "      <td>1</td>\n",
       "      <td>0</td>\n",
       "      <td>0</td>\n",
       "      <td>0</td>\n",
       "      <td>0</td>\n",
       "    </tr>\n",
       "    <tr>\n",
       "      <th>1</th>\n",
       "      <td>0</td>\n",
       "      <td>0</td>\n",
       "      <td>0</td>\n",
       "      <td>0</td>\n",
       "      <td>0</td>\n",
       "      <td>1</td>\n",
       "      <td>0</td>\n",
       "      <td>0</td>\n",
       "      <td>0</td>\n",
       "    </tr>\n",
       "  </tbody>\n",
       "</table>\n",
       "</div>"
      ],
      "text/plain": [
       "   No reason specified  Poor Customer Service  Poor Product Quality  \\\n",
       "0                    0                      0                     0   \n",
       "1                    0                      0                     0   \n",
       "\n",
       "   Poor Website  Products always in Stock  Quality Customer Care  \\\n",
       "0             0                         1                      0   \n",
       "1             0                         0                      1   \n",
       "\n",
       "   Reasonable Price  Too many ads  User Friendly Website  \n",
       "0                 0             0                      0  \n",
       "1                 0             0                      0  "
      ]
     },
     "execution_count": 170,
     "metadata": {},
     "output_type": "execute_result"
    }
   ],
   "source": [
    "dummy=pd.get_dummies(combine['feedback'])\n",
    "dummy.head(2)"
   ]
  },
  {
   "cell_type": "code",
   "execution_count": 171,
   "id": "olive-church",
   "metadata": {},
   "outputs": [
    {
     "data": {
      "text/plain": [
       "(56911, 62)"
      ]
     },
     "execution_count": 171,
     "metadata": {},
     "output_type": "execute_result"
    }
   ],
   "source": [
    "dummy=pd.get_dummies(combine['feedback'])\n",
    "dummy.columns=['feed_noreason', 'feed_poorcs', 'feed_poorproduct', 'feed_poorweb', 'feed_stock', 'feed_qualitycc', 'feed_price', 'feed_ads', 'feed_friendly']\n",
    "dummy_combine=pd.concat([dummy_combine, dummy], axis=1)\n",
    "dummy_combine.shape"
   ]
  },
  {
   "cell_type": "markdown",
   "id": "blocked-fraud",
   "metadata": {},
   "source": [
    "* preprocessing columns having many uniques values"
   ]
  },
  {
   "cell_type": "code",
   "execution_count": 181,
   "id": "enhanced-logging",
   "metadata": {},
   "outputs": [],
   "source": [
    "dummy=pd.to_datetime(dummy_combine['joining_date'])"
   ]
  },
  {
   "cell_type": "code",
   "execution_count": 190,
   "id": "realistic-compression",
   "metadata": {},
   "outputs": [],
   "source": [
    "# dummy.dt.month\n",
    "# dummy.dt.year\n",
    "# dummy.dt.day"
   ]
  },
  {
   "cell_type": "code",
   "execution_count": 191,
   "id": "oriented-object",
   "metadata": {},
   "outputs": [],
   "source": [
    "dummy_combine['joining_year']=dummy.dt.year\n",
    "dummy_combine['joining_month']=dummy.dt.month\n",
    "dummy_combine['joining_day']=dummy.dt.day"
   ]
  },
  {
   "cell_type": "code",
   "execution_count": 193,
   "id": "juvenile-canberra",
   "metadata": {},
   "outputs": [],
   "source": [
    "dummy_combine.drop(['joining_date'], axis=1, inplace=True)"
   ]
  },
  {
   "cell_type": "code",
   "execution_count": 194,
   "id": "isolated-thomas",
   "metadata": {},
   "outputs": [],
   "source": [
    "dummy=pd.to_datetime(dummy_combine['last_visit_time'])"
   ]
  },
  {
   "cell_type": "code",
   "execution_count": 196,
   "id": "impaired-orientation",
   "metadata": {},
   "outputs": [
    {
     "data": {
      "text/plain": [
       "0       2021-04-15 16:08:02\n",
       "1       2021-04-15 12:38:13\n",
       "2       2021-04-15 22:53:21\n",
       "3       2021-04-15 15:57:50\n",
       "4       2021-04-15 15:46:44\n",
       "                ...        \n",
       "19914   2021-04-15 00:32:43\n",
       "19915   2021-04-15 07:54:37\n",
       "19916   2021-04-15 09:26:37\n",
       "19917   2021-04-15 21:59:14\n",
       "19918   2021-04-15 10:50:15\n",
       "Name: last_visit_time, Length: 56911, dtype: datetime64[ns]"
      ]
     },
     "execution_count": 196,
     "metadata": {},
     "output_type": "execute_result"
    }
   ],
   "source": [
    "dummy"
   ]
  },
  {
   "cell_type": "code",
   "execution_count": 202,
   "id": "strategic-bench",
   "metadata": {},
   "outputs": [],
   "source": [
    "# dummy.dt.hour\n",
    "# dummy.dt.minute\n",
    "# dummy.dt.second"
   ]
  },
  {
   "cell_type": "code",
   "execution_count": 203,
   "id": "common-mentor",
   "metadata": {},
   "outputs": [],
   "source": [
    "dummy_combine['last_visit_hour']=dummy.dt.hour\n",
    "dummy_combine['last_visit_minute']=dummy.dt.minute\n",
    "dummy_combine['last_visit_second']=dummy.dt.second"
   ]
  },
  {
   "cell_type": "code",
   "execution_count": 204,
   "id": "banned-firewall",
   "metadata": {},
   "outputs": [],
   "source": [
    "dummy_combine.drop(['last_visit_time'], axis=1, inplace=True)"
   ]
  },
  {
   "cell_type": "code",
   "execution_count": 205,
   "id": "experienced-preference",
   "metadata": {},
   "outputs": [
    {
     "data": {
      "text/plain": [
       "Error                  5437\n",
       "17.0                   2108\n",
       "13.0                   2090\n",
       "14.0                   2084\n",
       "19.0                   2080\n",
       "                       ... \n",
       "33.33864096190216         1\n",
       "-15.637524790689731       1\n",
       "0.4342235722050063        1\n",
       "32.190935875725216        1\n",
       "3.434648272379544         1\n",
       "Name: avg_frequency_login_days, Length: 2569, dtype: int64"
      ]
     },
     "execution_count": 205,
     "metadata": {},
     "output_type": "execute_result"
    }
   ],
   "source": [
    "dummy_combine['avg_frequency_login_days'].value_counts()"
   ]
  },
  {
   "cell_type": "markdown",
   "id": "dimensional-waste",
   "metadata": {},
   "source": [
    "As we can see that it has integer values except Error(an error might have occured because of which the days were not recorded)"
   ]
  },
  {
   "cell_type": "code",
   "execution_count": 206,
   "id": "yellow-jesus",
   "metadata": {},
   "outputs": [
    {
     "data": {
      "text/plain": [
       "0                      5437\n",
       "17.0                   2108\n",
       "13.0                   2090\n",
       "14.0                   2084\n",
       "19.0                   2080\n",
       "                       ... \n",
       "-15.637524790689731       1\n",
       "0.4342235722050063        1\n",
       "32.190935875725216        1\n",
       "-11.749275160004839       1\n",
       "44.6757789127119          1\n",
       "Name: avg_frequency_login_days, Length: 2569, dtype: int64"
      ]
     },
     "execution_count": 206,
     "metadata": {},
     "output_type": "execute_result"
    }
   ],
   "source": [
    "dummy=dummy_combine['avg_frequency_login_days'].replace('Error', 0)\n",
    "dummy.value_counts()"
   ]
  },
  {
   "cell_type": "code",
   "execution_count": 207,
   "id": "relative-adult",
   "metadata": {},
   "outputs": [],
   "source": [
    "dummy_combine['avg_frequency_login_days']=dummy"
   ]
  },
  {
   "cell_type": "code",
   "execution_count": 208,
   "id": "ideal-uruguay",
   "metadata": {},
   "outputs": [],
   "source": [
    "dummy_combine['avg_frequency_login_days']=dummy_combine['avg_frequency_login_days'].apply(lambda x: float(x))"
   ]
  },
  {
   "cell_type": "code",
   "execution_count": 209,
   "id": "young-plaintiff",
   "metadata": {},
   "outputs": [
    {
     "data": {
      "text/plain": [
       "0.000000     6515\n",
       "17.000000    2108\n",
       "13.000000    2090\n",
       "14.000000    2084\n",
       "19.000000    2080\n",
       "             ... \n",
       "50.305576       1\n",
       "39.465790       1\n",
       "42.948343       1\n",
       "35.955487       1\n",
       "44.169261       1\n",
       "Name: avg_frequency_login_days, Length: 1491, dtype: int64"
      ]
     },
     "execution_count": 209,
     "metadata": {},
     "output_type": "execute_result"
    }
   ],
   "source": [
    "dummy=dummy_combine['avg_frequency_login_days'].apply(lambda x: 0 if x<0 else x)\n",
    "dummy.value_counts()"
   ]
  },
  {
   "cell_type": "code",
   "execution_count": 210,
   "id": "dependent-citizenship",
   "metadata": {},
   "outputs": [],
   "source": [
    "dummy_combine['avg_frequency_login_days']=dummy_combine['avg_frequency_login_days'].apply(lambda x: 0 if x<0 else x)"
   ]
  },
  {
   "cell_type": "code",
   "execution_count": 211,
   "id": "flying-procedure",
   "metadata": {},
   "outputs": [],
   "source": [
    "#storing referral related columns\n",
    "dummy=dummy_combine[['joined_through_referral', 'referral_id']]"
   ]
  },
  {
   "cell_type": "code",
   "execution_count": 212,
   "id": "desirable-interstate",
   "metadata": {},
   "outputs": [
    {
     "data": {
      "text/html": [
       "<div>\n",
       "<style scoped>\n",
       "    .dataframe tbody tr th:only-of-type {\n",
       "        vertical-align: middle;\n",
       "    }\n",
       "\n",
       "    .dataframe tbody tr th {\n",
       "        vertical-align: top;\n",
       "    }\n",
       "\n",
       "    .dataframe thead th {\n",
       "        text-align: right;\n",
       "    }\n",
       "</style>\n",
       "<table border=\"1\" class=\"dataframe\">\n",
       "  <thead>\n",
       "    <tr style=\"text-align: right;\">\n",
       "      <th></th>\n",
       "      <th>joined_through_referral</th>\n",
       "      <th>referral_id</th>\n",
       "    </tr>\n",
       "  </thead>\n",
       "  <tbody>\n",
       "    <tr>\n",
       "      <th>0</th>\n",
       "      <td>No</td>\n",
       "      <td>xxxxxxxx</td>\n",
       "    </tr>\n",
       "    <tr>\n",
       "      <th>1</th>\n",
       "      <td>?</td>\n",
       "      <td>CID21329</td>\n",
       "    </tr>\n",
       "    <tr>\n",
       "      <th>2</th>\n",
       "      <td>Yes</td>\n",
       "      <td>CID12313</td>\n",
       "    </tr>\n",
       "    <tr>\n",
       "      <th>3</th>\n",
       "      <td>Yes</td>\n",
       "      <td>CID3793</td>\n",
       "    </tr>\n",
       "    <tr>\n",
       "      <th>4</th>\n",
       "      <td>No</td>\n",
       "      <td>xxxxxxxx</td>\n",
       "    </tr>\n",
       "    <tr>\n",
       "      <th>...</th>\n",
       "      <td>...</td>\n",
       "      <td>...</td>\n",
       "    </tr>\n",
       "    <tr>\n",
       "      <th>19914</th>\n",
       "      <td>No</td>\n",
       "      <td>xxxxxxxx</td>\n",
       "    </tr>\n",
       "    <tr>\n",
       "      <th>19915</th>\n",
       "      <td>Yes</td>\n",
       "      <td>CID45490</td>\n",
       "    </tr>\n",
       "    <tr>\n",
       "      <th>19916</th>\n",
       "      <td>No</td>\n",
       "      <td>xxxxxxxx</td>\n",
       "    </tr>\n",
       "    <tr>\n",
       "      <th>19917</th>\n",
       "      <td>Yes</td>\n",
       "      <td>CID37167</td>\n",
       "    </tr>\n",
       "    <tr>\n",
       "      <th>19918</th>\n",
       "      <td>Yes</td>\n",
       "      <td>CID56352</td>\n",
       "    </tr>\n",
       "  </tbody>\n",
       "</table>\n",
       "<p>56911 rows × 2 columns</p>\n",
       "</div>"
      ],
      "text/plain": [
       "      joined_through_referral referral_id\n",
       "0                          No    xxxxxxxx\n",
       "1                           ?    CID21329\n",
       "2                         Yes    CID12313\n",
       "3                         Yes     CID3793\n",
       "4                          No    xxxxxxxx\n",
       "...                       ...         ...\n",
       "19914                      No    xxxxxxxx\n",
       "19915                     Yes    CID45490\n",
       "19916                      No    xxxxxxxx\n",
       "19917                     Yes    CID37167\n",
       "19918                     Yes    CID56352\n",
       "\n",
       "[56911 rows x 2 columns]"
      ]
     },
     "execution_count": 212,
     "metadata": {},
     "output_type": "execute_result"
    }
   ],
   "source": [
    "dummy"
   ]
  },
  {
   "cell_type": "code",
   "execution_count": 213,
   "id": "graduate-prompt",
   "metadata": {},
   "outputs": [
    {
     "data": {
      "text/plain": [
       "Yes    24332\n",
       "No     24143\n",
       "?       8436\n",
       "Name: joined_through_referral, dtype: int64"
      ]
     },
     "execution_count": 213,
     "metadata": {},
     "output_type": "execute_result"
    }
   ],
   "source": [
    "dummy['joined_through_referral'].value_counts()"
   ]
  },
  {
   "cell_type": "code",
   "execution_count": 214,
   "id": "bored-program",
   "metadata": {},
   "outputs": [
    {
     "data": {
      "text/plain": [
       "xxxxxxxx    2286\n",
       "CID22424      11\n",
       "CID43705      11\n",
       "CID3979       10\n",
       "CID49598      10\n",
       "            ... \n",
       "CID27581       1\n",
       "CID4454        1\n",
       "CID29522       1\n",
       "CID51719       1\n",
       "CID30497       1\n",
       "Name: referral_id, Length: 12334, dtype: int64"
      ]
     },
     "execution_count": 214,
     "metadata": {},
     "output_type": "execute_result"
    }
   ],
   "source": [
    "dummy[(dummy['joined_through_referral']=='Yes')]['referral_id'].value_counts()"
   ]
  },
  {
   "cell_type": "code",
   "execution_count": 215,
   "id": "piano-found",
   "metadata": {},
   "outputs": [
    {
     "data": {
      "text/plain": [
       "xxxxxxxx    24143\n",
       "Name: referral_id, dtype: int64"
      ]
     },
     "execution_count": 215,
     "metadata": {},
     "output_type": "execute_result"
    }
   ],
   "source": [
    "dummy[(dummy['joined_through_referral']=='No')]['referral_id'].value_counts()"
   ]
  },
  {
   "cell_type": "code",
   "execution_count": 216,
   "id": "finnish-balloon",
   "metadata": {},
   "outputs": [
    {
     "data": {
      "text/plain": [
       "xxxxxxxx    871\n",
       "CID63748      6\n",
       "CID16200      6\n",
       "CID23523      5\n",
       "CID58334      5\n",
       "           ... \n",
       "CID19353      1\n",
       "CID39594      1\n",
       "CID63322      1\n",
       "CID6396       1\n",
       "CID39032      1\n",
       "Name: referral_id, Length: 5964, dtype: int64"
      ]
     },
     "execution_count": 216,
     "metadata": {},
     "output_type": "execute_result"
    }
   ],
   "source": [
    "dummy[(dummy['joined_through_referral']=='?')]['referral_id'].value_counts()"
   ]
  },
  {
   "cell_type": "code",
   "execution_count": 217,
   "id": "photographic-release",
   "metadata": {},
   "outputs": [
    {
     "name": "stderr",
     "output_type": "stream",
     "text": [
      "C:\\Users\\Akshat\\Anaconda3\\lib\\site-packages\\pandas\\core\\indexing.py:671: SettingWithCopyWarning: \n",
      "A value is trying to be set on a copy of a slice from a DataFrame\n",
      "\n",
      "See the caveats in the documentation: https://pandas.pydata.org/pandas-docs/stable/user_guide/indexing.html#returning-a-view-versus-a-copy\n",
      "  self._setitem_with_indexer(indexer, value)\n",
      "C:\\Users\\Akshat\\Anaconda3\\lib\\site-packages\\ipykernel_launcher.py:2: SettingWithCopyWarning: \n",
      "A value is trying to be set on a copy of a slice from a DataFrame\n",
      "\n",
      "See the caveats in the documentation: https://pandas.pydata.org/pandas-docs/stable/user_guide/indexing.html#returning-a-view-versus-a-copy\n",
      "  \n"
     ]
    }
   ],
   "source": [
    "#Replacing '?' with 'No' where referral id not given as it means that person was not referred\n",
    "dummy.loc[(dummy['referral_id']=='xxxxxxxx') & (dummy['joined_through_referral']=='?'), 'joined_through_referral']='No'"
   ]
  },
  {
   "cell_type": "code",
   "execution_count": 218,
   "id": "filled-theater",
   "metadata": {},
   "outputs": [
    {
     "data": {
      "text/plain": [
       "Series([], Name: joined_through_referral, dtype: object)"
      ]
     },
     "execution_count": 218,
     "metadata": {},
     "output_type": "execute_result"
    }
   ],
   "source": [
    "dummy.loc[(dummy['referral_id']=='xxxxxxxx') & (dummy['joined_through_referral']=='?')]['joined_through_referral']"
   ]
  },
  {
   "cell_type": "code",
   "execution_count": 219,
   "id": "adaptive-solomon",
   "metadata": {},
   "outputs": [
    {
     "name": "stderr",
     "output_type": "stream",
     "text": [
      "C:\\Users\\Akshat\\Anaconda3\\lib\\site-packages\\ipykernel_launcher.py:2: SettingWithCopyWarning: \n",
      "A value is trying to be set on a copy of a slice from a DataFrame\n",
      "\n",
      "See the caveats in the documentation: https://pandas.pydata.org/pandas-docs/stable/user_guide/indexing.html#returning-a-view-versus-a-copy\n",
      "  \n"
     ]
    }
   ],
   "source": [
    "#Replacing '?' with 'Yes' where referral id is given as it means that person was referred\n",
    "dummy.loc[(dummy['referral_id']!='xxxxxxxx') & (dummy['joined_through_referral']=='?'), 'joined_through_referral']='Yes'"
   ]
  },
  {
   "cell_type": "code",
   "execution_count": 220,
   "id": "adolescent-european",
   "metadata": {},
   "outputs": [
    {
     "data": {
      "text/plain": [
       "Series([], Name: joined_through_referral, dtype: object)"
      ]
     },
     "execution_count": 220,
     "metadata": {},
     "output_type": "execute_result"
    }
   ],
   "source": [
    "dummy.loc[(dummy['referral_id']!='xxxxxxxx') & (dummy['joined_through_referral']=='?')]['joined_through_referral']"
   ]
  },
  {
   "cell_type": "code",
   "execution_count": 221,
   "id": "silent-attachment",
   "metadata": {},
   "outputs": [
    {
     "data": {
      "text/plain": [
       "Yes    31897\n",
       "No     25014\n",
       "Name: joined_through_referral, dtype: int64"
      ]
     },
     "execution_count": 221,
     "metadata": {},
     "output_type": "execute_result"
    }
   ],
   "source": [
    "dummy['joined_through_referral'].value_counts()"
   ]
  },
  {
   "cell_type": "code",
   "execution_count": 222,
   "id": "advised-secondary",
   "metadata": {},
   "outputs": [],
   "source": [
    "dummy_combine['joined_through_referral']=dummy['joined_through_referral']"
   ]
  },
  {
   "cell_type": "code",
   "execution_count": 223,
   "id": "insured-arthur",
   "metadata": {},
   "outputs": [
    {
     "data": {
      "text/html": [
       "<div>\n",
       "<style scoped>\n",
       "    .dataframe tbody tr th:only-of-type {\n",
       "        vertical-align: middle;\n",
       "    }\n",
       "\n",
       "    .dataframe tbody tr th {\n",
       "        vertical-align: top;\n",
       "    }\n",
       "\n",
       "    .dataframe thead th {\n",
       "        text-align: right;\n",
       "    }\n",
       "</style>\n",
       "<table border=\"1\" class=\"dataframe\">\n",
       "  <thead>\n",
       "    <tr style=\"text-align: right;\">\n",
       "      <th></th>\n",
       "      <th>No</th>\n",
       "      <th>Yes</th>\n",
       "    </tr>\n",
       "  </thead>\n",
       "  <tbody>\n",
       "    <tr>\n",
       "      <th>0</th>\n",
       "      <td>1</td>\n",
       "      <td>0</td>\n",
       "    </tr>\n",
       "    <tr>\n",
       "      <th>1</th>\n",
       "      <td>0</td>\n",
       "      <td>1</td>\n",
       "    </tr>\n",
       "  </tbody>\n",
       "</table>\n",
       "</div>"
      ],
      "text/plain": [
       "   No  Yes\n",
       "0   1    0\n",
       "1   0    1"
      ]
     },
     "execution_count": 223,
     "metadata": {},
     "output_type": "execute_result"
    }
   ],
   "source": [
    "dummy=pd.get_dummies(dummy_combine['joined_through_referral'])\n",
    "dummy.head(2)"
   ]
  },
  {
   "cell_type": "code",
   "execution_count": 224,
   "id": "appreciated-sweet",
   "metadata": {},
   "outputs": [
    {
     "data": {
      "text/plain": [
       "(56911, 68)"
      ]
     },
     "execution_count": 224,
     "metadata": {},
     "output_type": "execute_result"
    }
   ],
   "source": [
    "dummy=pd.get_dummies(dummy_combine['joined_through_referral'])\n",
    "dummy.columns=['refer_no', 'refer_yes']\n",
    "dummy_combine=pd.concat([dummy_combine, dummy], axis=1)\n",
    "dummy_combine.shape"
   ]
  },
  {
   "cell_type": "markdown",
   "id": "electrical-information",
   "metadata": {},
   "source": [
    "- dropping the object columns whose dummy variables have been created and also referral id as there's no way of knowing missing referral ids"
   ]
  },
  {
   "cell_type": "code",
   "execution_count": 225,
   "id": "basic-solid",
   "metadata": {},
   "outputs": [],
   "source": [
    "dummy=dummy_combine.drop(['gender', 'region_category', 'membership_category', 'preferred_offer_types', 'medium_of_operation',\n",
    "                           'internet_option', 'used_special_discount', 'offer_application_preference', 'past_complaint', 'complaint_status',\n",
    "                           'feedback', 'referral_id', 'joined_through_referral'], axis=1)"
   ]
  },
  {
   "cell_type": "code",
   "execution_count": 226,
   "id": "wicked-occasions",
   "metadata": {},
   "outputs": [
    {
     "data": {
      "text/plain": [
       "(56911, 55)"
      ]
     },
     "execution_count": 226,
     "metadata": {},
     "output_type": "execute_result"
    }
   ],
   "source": [
    "dummy.shape"
   ]
  },
  {
   "cell_type": "code",
   "execution_count": 227,
   "id": "overhead-terrorist",
   "metadata": {},
   "outputs": [
    {
     "data": {
      "text/plain": [
       "age                         False\n",
       "days_since_last_login       False\n",
       "avg_time_spent              False\n",
       "avg_transaction_value       False\n",
       "avg_frequency_login_days    False\n",
       "points_in_wallet            False\n",
       "gen_f                       False\n",
       "gen_m                       False\n",
       "gen_un                      False\n",
       "region_city                 False\n",
       "region_town                 False\n",
       "region_village              False\n",
       "mem_basic                   False\n",
       "mem_gold                    False\n",
       "mem_no                      False\n",
       "mem_plat                    False\n",
       "mem_prem                    False\n",
       "mem_silver                  False\n",
       "off_card                    False\n",
       "off_coupon                  False\n",
       "off_none                    False\n",
       "op_both                     False\n",
       "op_desk                     False\n",
       "op_phone                    False\n",
       "inter_fiber                 False\n",
       "inter_data                  False\n",
       "inter_wifi                  False\n",
       "discount_no                 False\n",
       "discount_yes                False\n",
       "offer_no                    False\n",
       "offer_yes                   False\n",
       "complaint_no                False\n",
       "complaint_yes               False\n",
       "status_noinfo               False\n",
       "status_not                  False\n",
       "status_solved               False\n",
       "status_followup             False\n",
       "status_unsolved             False\n",
       "feed_noreason               False\n",
       "feed_poorcs                 False\n",
       "feed_poorproduct            False\n",
       "feed_poorweb                False\n",
       "feed_stock                  False\n",
       "feed_qualitycc              False\n",
       "feed_price                  False\n",
       "feed_ads                    False\n",
       "feed_friendly               False\n",
       "joining_year                False\n",
       "joining_month               False\n",
       "joining_day                 False\n",
       "last_visit_hour             False\n",
       "last_visit_minute           False\n",
       "last_visit_second           False\n",
       "refer_no                    False\n",
       "refer_yes                   False\n",
       "dtype: bool"
      ]
     },
     "execution_count": 227,
     "metadata": {},
     "output_type": "execute_result"
    }
   ],
   "source": [
    "dummy.dtypes==object"
   ]
  },
  {
   "cell_type": "markdown",
   "id": "integrated-norfolk",
   "metadata": {},
   "source": [
    "# Preprocessing numeric columns"
   ]
  },
  {
   "cell_type": "markdown",
   "id": "colored-cleveland",
   "metadata": {},
   "source": [
    "# Getting train and test data"
   ]
  },
  {
   "cell_type": "code",
   "execution_count": 228,
   "id": "engaging-sleeve",
   "metadata": {},
   "outputs": [
    {
     "data": {
      "text/plain": [
       "((36992, 24), (19919, 24))"
      ]
     },
     "execution_count": 228,
     "metadata": {},
     "output_type": "execute_result"
    }
   ],
   "source": [
    "train.shape, test.shape"
   ]
  },
  {
   "cell_type": "code",
   "execution_count": 229,
   "id": "burning-sucking",
   "metadata": {},
   "outputs": [
    {
     "data": {
      "text/plain": [
       "((36992, 55), (19919, 55))"
      ]
     },
     "execution_count": 229,
     "metadata": {},
     "output_type": "execute_result"
    }
   ],
   "source": [
    "x_train=dummy[:36992]\n",
    "x_test=dummy[36992:]\n",
    "x_train.shape, x_test.shape"
   ]
  },
  {
   "cell_type": "code",
   "execution_count": 230,
   "id": "pharmaceutical-smart",
   "metadata": {},
   "outputs": [
    {
     "data": {
      "text/plain": [
       " 3    10424\n",
       " 4    10185\n",
       " 5     9827\n",
       " 2     2741\n",
       " 1     2652\n",
       "-1     1163\n",
       "Name: churn_risk_score, dtype: int64"
      ]
     },
     "execution_count": 230,
     "metadata": {},
     "output_type": "execute_result"
    }
   ],
   "source": [
    "y.value_counts()"
   ]
  },
  {
   "cell_type": "markdown",
   "id": "seasonal-collaboration",
   "metadata": {},
   "source": [
    "As we can see there are also -1 in the dataset but in the data description it's given that it is in the range 1-5 <br>\n",
    "So, 1 might have been mistyped as -1 "
   ]
  },
  {
   "cell_type": "code",
   "execution_count": 231,
   "id": "covered-berkeley",
   "metadata": {},
   "outputs": [
    {
     "data": {
      "text/plain": [
       "3    10424\n",
       "4    10185\n",
       "5     9827\n",
       "1     3815\n",
       "2     2741\n",
       "Name: churn_risk_score, dtype: int64"
      ]
     },
     "execution_count": 231,
     "metadata": {},
     "output_type": "execute_result"
    }
   ],
   "source": [
    "yabs=y.abs()\n",
    "yabs.value_counts()"
   ]
  },
  {
   "cell_type": "code",
   "execution_count": 232,
   "id": "accurate-mechanism",
   "metadata": {},
   "outputs": [
    {
     "data": {
      "text/plain": [
       "((36992, 57), (19919, 56))"
      ]
     },
     "execution_count": 232,
     "metadata": {},
     "output_type": "execute_result"
    }
   ],
   "source": [
    "new_train=pd.concat([train['customer_id'], x_train, yabs], axis=1)\n",
    "new_test=pd.concat([test['customer_id'], x_test], axis=1)\n",
    "new_train.shape, new_test.shape"
   ]
  },
  {
   "cell_type": "code",
   "execution_count": 234,
   "id": "fossil-howard",
   "metadata": {},
   "outputs": [],
   "source": [
    "new_train.to_csv('dataset/new_train4.csv', index=False)\n",
    "new_test.to_csv('dataset/new_test4.csv', index=False)"
   ]
  },
  {
   "cell_type": "code",
   "execution_count": null,
   "id": "consolidated-processing",
   "metadata": {},
   "outputs": [],
   "source": []
  }
 ],
 "metadata": {
  "kernelspec": {
   "display_name": "Python 3",
   "language": "python",
   "name": "python3"
  },
  "language_info": {
   "codemirror_mode": {
    "name": "ipython",
    "version": 3
   },
   "file_extension": ".py",
   "mimetype": "text/x-python",
   "name": "python",
   "nbconvert_exporter": "python",
   "pygments_lexer": "ipython3",
   "version": "3.7.3"
  }
 },
 "nbformat": 4,
 "nbformat_minor": 5
}
